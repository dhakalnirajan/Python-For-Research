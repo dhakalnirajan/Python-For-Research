{
  "nbformat": 4,
  "nbformat_minor": 0,
  "metadata": {
    "colab": {
      "provenance": []
    },
    "kernelspec": {
      "name": "python3",
      "display_name": "Python 3"
    },
    "language_info": {
      "name": "python"
    },
    "accelerator": "GPU"
  },
  "cells": [
    {
      "cell_type": "markdown",
      "source": [
        "# Day - 5"
      ],
      "metadata": {
        "id": "_l4SwTqk_YQc"
      }
    },
    {
      "cell_type": "markdown",
      "source": [
        "# Dictionary in Python"
      ],
      "metadata": {
        "id": "4Uor5S10CQ9o"
      }
    },
    {
      "cell_type": "code",
      "execution_count": null,
      "metadata": {
        "id": "pS1r7dBA-FZI"
      },
      "outputs": [],
      "source": [
        "a = {\n",
        "    \"apple\" : \"apple is a fruit\",\n",
        "    \"ball\" : \"ball is played\"\n",
        "}"
      ]
    },
    {
      "cell_type": "markdown",
      "source": [
        "``` python\n",
        "{\n",
        "    key:value\n",
        "}\n",
        "```"
      ],
      "metadata": {
        "id": "_Kg6HNYIFgFb"
      }
    },
    {
      "cell_type": "code",
      "source": [
        "type(a)"
      ],
      "metadata": {
        "colab": {
          "base_uri": "https://localhost:8080/"
        },
        "id": "woTvBTQYFsrK",
        "outputId": "afb7b77f-31ab-4e6c-d455-c69b465f0384"
      },
      "execution_count": null,
      "outputs": [
        {
          "output_type": "execute_result",
          "data": {
            "text/plain": [
              "dict"
            ]
          },
          "metadata": {},
          "execution_count": 5
        }
      ]
    },
    {
      "cell_type": "code",
      "source": [
        "num = {\n",
        "    1: \"one\",\n",
        "    2: \"two\",\n",
        "    2.5 : \"two\",\n",
        "    3 : \"three\",\n",
        "    4: 4,\n",
        "    5: [88, 77, 9]\n",
        "}"
      ],
      "metadata": {
        "id": "ZXNcF50WF77Z"
      },
      "execution_count": null,
      "outputs": []
    },
    {
      "cell_type": "code",
      "source": [
        "type(num)"
      ],
      "metadata": {
        "colab": {
          "base_uri": "https://localhost:8080/"
        },
        "id": "QDJ7x2qhGEPt",
        "outputId": "18361f9e-b524-4e54-bb2b-3634bb0555c3"
      },
      "execution_count": null,
      "outputs": [
        {
          "output_type": "execute_result",
          "data": {
            "text/plain": [
              "dict"
            ]
          },
          "metadata": {},
          "execution_count": 9
        }
      ]
    },
    {
      "cell_type": "code",
      "source": [
        "country = {\n",
        "    \"Nepal\": \"Kathmandu\",\n",
        "    \"India\": \"New Delhi\",\n",
        "    \"China\": \"Beijing\"\n",
        "}"
      ],
      "metadata": {
        "id": "XPt11W6dGwDz"
      },
      "execution_count": null,
      "outputs": []
    },
    {
      "cell_type": "code",
      "source": [
        "type(country)"
      ],
      "metadata": {
        "colab": {
          "base_uri": "https://localhost:8080/"
        },
        "id": "wxJyAcpQHAzl",
        "outputId": "33ead73a-e6e1-47e3-df5d-0cea5b821e32"
      },
      "execution_count": null,
      "outputs": [
        {
          "output_type": "execute_result",
          "data": {
            "text/plain": [
              "dict"
            ]
          },
          "metadata": {},
          "execution_count": 13
        }
      ]
    },
    {
      "cell_type": "markdown",
      "source": [
        "## accessing the values of a dictionary key"
      ],
      "metadata": {
        "id": "5wTUY0zDHJYf"
      }
    },
    {
      "cell_type": "code",
      "source": [
        "country[\"Nepal\"]"
      ],
      "metadata": {
        "colab": {
          "base_uri": "https://localhost:8080/",
          "height": 35
        },
        "id": "gHMcfEvyHH22",
        "outputId": "dacc57b3-8949-4738-abcb-33f5a98dec74"
      },
      "execution_count": null,
      "outputs": [
        {
          "output_type": "execute_result",
          "data": {
            "text/plain": [
              "'Kathmandu'"
            ],
            "application/vnd.google.colaboratory.intrinsic+json": {
              "type": "string"
            }
          },
          "metadata": {},
          "execution_count": 15
        }
      ]
    },
    {
      "cell_type": "code",
      "source": [
        "country.get(\"Nepal\")"
      ],
      "metadata": {
        "colab": {
          "base_uri": "https://localhost:8080/",
          "height": 35
        },
        "id": "aDSb6SOlKvkd",
        "outputId": "804b1ecf-bf2b-4138-8e7d-cea2b1334bea"
      },
      "execution_count": null,
      "outputs": [
        {
          "output_type": "execute_result",
          "data": {
            "text/plain": [
              "'Kathmandu'"
            ],
            "application/vnd.google.colaboratory.intrinsic+json": {
              "type": "string"
            }
          },
          "metadata": {},
          "execution_count": 16
        }
      ]
    },
    {
      "cell_type": "markdown",
      "source": [
        "## update or add key value pair in dictionary."
      ],
      "metadata": {
        "id": "ZBleCtKRK7H3"
      }
    },
    {
      "cell_type": "code",
      "source": [
        "country = {\n",
        "    \"Nepal\": \"Kathmandu\",\n",
        "    \"India\": \"New Delhi\",\n",
        "    \"China\": \"Beijing\"\n",
        "}"
      ],
      "metadata": {
        "id": "fkHuBSJeKz7-"
      },
      "execution_count": null,
      "outputs": []
    },
    {
      "cell_type": "code",
      "source": [
        "country['Pakistan'] = 'Islamabad'"
      ],
      "metadata": {
        "id": "SoTZIy9VLEzT"
      },
      "execution_count": null,
      "outputs": []
    },
    {
      "cell_type": "code",
      "source": [
        "country"
      ],
      "metadata": {
        "colab": {
          "base_uri": "https://localhost:8080/"
        },
        "id": "QvI4yhnGLNAT",
        "outputId": "97612878-6031-4731-d7c5-7ab7947e5008"
      },
      "execution_count": null,
      "outputs": [
        {
          "output_type": "execute_result",
          "data": {
            "text/plain": [
              "{'Nepal': 'Kathmandu',\n",
              " 'India': 'New Delhi',\n",
              " 'China': 'Beijing',\n",
              " 'Pakistan': 'Islamabad'}"
            ]
          },
          "metadata": {},
          "execution_count": 19
        }
      ]
    },
    {
      "cell_type": "code",
      "source": [
        "country.update({'Bhutan': 'thimpu'})"
      ],
      "metadata": {
        "id": "xFuGQ2g5LQsk"
      },
      "execution_count": null,
      "outputs": []
    },
    {
      "cell_type": "code",
      "source": [
        "country"
      ],
      "metadata": {
        "colab": {
          "base_uri": "https://localhost:8080/"
        },
        "id": "W3mQdFFcLcTA",
        "outputId": "f3304f0b-7afb-422b-d291-03afd8b56eb1"
      },
      "execution_count": null,
      "outputs": [
        {
          "output_type": "execute_result",
          "data": {
            "text/plain": [
              "{'Nepal': 'Kathmandu',\n",
              " 'India': 'New Delhi',\n",
              " 'China': 'Beijing',\n",
              " 'Pakistan': 'Islamabad',\n",
              " 'Bhutan': 'thimpu'}"
            ]
          },
          "metadata": {},
          "execution_count": 27
        }
      ]
    },
    {
      "cell_type": "code",
      "source": [
        "country.update({'Bhutan': \"Thimpu\"})"
      ],
      "metadata": {
        "id": "QK7DoNylLk6m"
      },
      "execution_count": null,
      "outputs": []
    },
    {
      "cell_type": "code",
      "source": [
        "country"
      ],
      "metadata": {
        "colab": {
          "base_uri": "https://localhost:8080/"
        },
        "id": "Yf2TfSmSLxPw",
        "outputId": "6afc0b11-41cd-409c-f247-519a4e8c8ae0"
      },
      "execution_count": null,
      "outputs": [
        {
          "output_type": "execute_result",
          "data": {
            "text/plain": [
              "{'Nepal': 'Kathmandu',\n",
              " 'India': 'New Delhi',\n",
              " 'China': 'Beijing',\n",
              " 'Pakistan': 'Islamabad',\n",
              " 'Bhutan': 'Thimpu'}"
            ]
          },
          "metadata": {},
          "execution_count": 29
        }
      ]
    },
    {
      "cell_type": "markdown",
      "source": [
        "# List key and values of a dictionary"
      ],
      "metadata": {
        "id": "ORt4gBNgMRH5"
      }
    },
    {
      "cell_type": "code",
      "source": [
        "c = {'Nepal': 'Kathmandu',\n",
        " 'India': 'New Delhi',\n",
        " 'China': 'Beijing',\n",
        " 'Pakistan': 'Islamabad',\n",
        " 'Bhutan': 'Thimpu'}"
      ],
      "metadata": {
        "id": "tt7uuQ7AMQhr"
      },
      "execution_count": null,
      "outputs": []
    },
    {
      "cell_type": "code",
      "source": [
        "c.keys()"
      ],
      "metadata": {
        "colab": {
          "base_uri": "https://localhost:8080/"
        },
        "id": "ah4BRTnzMZMu",
        "outputId": "207f7753-b00a-4808-f0fe-f9a8086c0e88"
      },
      "execution_count": null,
      "outputs": [
        {
          "output_type": "execute_result",
          "data": {
            "text/plain": [
              "dict_keys(['Nepal', 'India', 'China', 'Pakistan', 'Bhutan'])"
            ]
          },
          "metadata": {},
          "execution_count": 36
        }
      ]
    },
    {
      "cell_type": "code",
      "source": [
        "list(c.keys())"
      ],
      "metadata": {
        "colab": {
          "base_uri": "https://localhost:8080/"
        },
        "id": "PkcvVRcZMc5R",
        "outputId": "dad415ef-eb5e-4d50-8488-e79696b935ae"
      },
      "execution_count": null,
      "outputs": [
        {
          "output_type": "execute_result",
          "data": {
            "text/plain": [
              "['Nepal', 'India', 'China', 'Pakistan', 'Bhutan']"
            ]
          },
          "metadata": {},
          "execution_count": 37
        }
      ]
    },
    {
      "cell_type": "code",
      "source": [
        "c.values()"
      ],
      "metadata": {
        "colab": {
          "base_uri": "https://localhost:8080/"
        },
        "id": "2cnN6rn5Mggr",
        "outputId": "6ffe17b5-3a16-48a5-9995-68b0470eb1ce"
      },
      "execution_count": null,
      "outputs": [
        {
          "output_type": "execute_result",
          "data": {
            "text/plain": [
              "dict_values(['Kathmandu', 'New Delhi', 'Beijing', 'Islamabad', 'Thimpu'])"
            ]
          },
          "metadata": {},
          "execution_count": 38
        }
      ]
    },
    {
      "cell_type": "code",
      "source": [
        "list(c.values())"
      ],
      "metadata": {
        "colab": {
          "base_uri": "https://localhost:8080/"
        },
        "id": "J1ps_YmnMiM2",
        "outputId": "46ea3aac-1a6e-46ce-9faf-52bda04e366b"
      },
      "execution_count": null,
      "outputs": [
        {
          "output_type": "execute_result",
          "data": {
            "text/plain": [
              "['Kathmandu', 'New Delhi', 'Beijing', 'Islamabad', 'Thimpu']"
            ]
          },
          "metadata": {},
          "execution_count": 39
        }
      ]
    },
    {
      "cell_type": "markdown",
      "source": [
        "# removing key value pair in dictionary"
      ],
      "metadata": {
        "id": "WuR0VdPTMvjd"
      }
    },
    {
      "cell_type": "code",
      "source": [
        "c = {'Nepal': 'Kathmandu',\n",
        " 'India': 'New Delhi',\n",
        " 'China': 'Beijing',\n",
        " 'Pakistan': 'Islamabad',\n",
        " 'Bhutan': 'Thimpu'}"
      ],
      "metadata": {
        "id": "dG1ygwK_MtzP"
      },
      "execution_count": null,
      "outputs": []
    },
    {
      "cell_type": "code",
      "source": [
        "c.pop('China')"
      ],
      "metadata": {
        "colab": {
          "base_uri": "https://localhost:8080/",
          "height": 35
        },
        "id": "uOHuGXytM39w",
        "outputId": "0886e679-2342-4fcb-d595-dd981c36cee7"
      },
      "execution_count": null,
      "outputs": [
        {
          "output_type": "execute_result",
          "data": {
            "text/plain": [
              "'Beijing'"
            ],
            "application/vnd.google.colaboratory.intrinsic+json": {
              "type": "string"
            }
          },
          "metadata": {},
          "execution_count": 41
        }
      ]
    },
    {
      "cell_type": "code",
      "source": [
        "c"
      ],
      "metadata": {
        "colab": {
          "base_uri": "https://localhost:8080/"
        },
        "id": "QRrbjoxBM762",
        "outputId": "880338d9-c234-442e-f5d3-b51e4fa54a31"
      },
      "execution_count": null,
      "outputs": [
        {
          "output_type": "execute_result",
          "data": {
            "text/plain": [
              "{'Nepal': 'Kathmandu',\n",
              " 'India': 'New Delhi',\n",
              " 'Pakistan': 'Islamabad',\n",
              " 'Bhutan': 'Thimpu'}"
            ]
          },
          "metadata": {},
          "execution_count": 42
        }
      ]
    },
    {
      "cell_type": "markdown",
      "source": [
        "# Looping in Dictionary"
      ],
      "metadata": {
        "id": "o9WvHKMxM_T8"
      }
    },
    {
      "cell_type": "code",
      "source": [
        "c = {'Nepal': 'Kathmandu',\n",
        " 'India': 'New Delhi',\n",
        " 'China': 'Beijing',\n",
        " 'Pakistan': 'Islamabad',\n",
        " 'Bhutan': 'Thimpu'}"
      ],
      "metadata": {
        "id": "2-aCvl4hM8z-"
      },
      "execution_count": null,
      "outputs": []
    },
    {
      "cell_type": "code",
      "source": [
        "c.items()      # unpacking of tuple items: key, value"
      ],
      "metadata": {
        "colab": {
          "base_uri": "https://localhost:8080/"
        },
        "id": "dcu3NTw1N-At",
        "outputId": "8a23b4af-0acc-4d13-d0f1-c87575587bca"
      },
      "execution_count": null,
      "outputs": [
        {
          "output_type": "execute_result",
          "data": {
            "text/plain": [
              "dict_items([('Nepal', 'Kathmandu'), ('India', 'New Delhi'), ('China', 'Beijing'), ('Pakistan', 'Islamabad'), ('Bhutan', 'Thimpu')])"
            ]
          },
          "metadata": {},
          "execution_count": 52
        }
      ]
    },
    {
      "cell_type": "code",
      "source": [
        "a, b = (5, 6)\n",
        "print(a)\n",
        "print(b)        # key, value.     a and b are keys while 5 and 6 are values. a corresponds to 5 and 6 corresponds to b."
      ],
      "metadata": {
        "colab": {
          "base_uri": "https://localhost:8080/"
        },
        "id": "6PVL9sE_OBX7",
        "outputId": "69ba0a71-0787-4102-c383-da82cd864ac3"
      },
      "execution_count": null,
      "outputs": [
        {
          "output_type": "stream",
          "name": "stdout",
          "text": [
            "5\n",
            "6\n"
          ]
        }
      ]
    },
    {
      "cell_type": "code",
      "source": [
        "for item in c:\n",
        "    print(item)"
      ],
      "metadata": {
        "colab": {
          "base_uri": "https://localhost:8080/"
        },
        "id": "x8Ne1EqZNCxD",
        "outputId": "7a63c127-af1a-4ba8-9c5a-63aaccacf16b"
      },
      "execution_count": null,
      "outputs": [
        {
          "output_type": "stream",
          "name": "stdout",
          "text": [
            "Nepal\n",
            "India\n",
            "China\n",
            "Pakistan\n",
            "Bhutan\n"
          ]
        }
      ]
    },
    {
      "cell_type": "code",
      "source": [
        "for item in c:\n",
        "    print(c.get(item))"
      ],
      "metadata": {
        "colab": {
          "base_uri": "https://localhost:8080/"
        },
        "id": "52Gi_JTUNGPl",
        "outputId": "a649a95a-0e05-4cf4-bc17-6fecefcbde3d"
      },
      "execution_count": null,
      "outputs": [
        {
          "output_type": "stream",
          "name": "stdout",
          "text": [
            "Kathmandu\n",
            "New Delhi\n",
            "Beijing\n",
            "Islamabad\n",
            "Thimpu\n"
          ]
        }
      ]
    },
    {
      "cell_type": "code",
      "source": [
        "for item in c:\n",
        "    print(\"The key is {}\".format(item))\n",
        "    \n",
        "    print(\"The value is {}\".format(c.get(item)))"
      ],
      "metadata": {
        "colab": {
          "base_uri": "https://localhost:8080/"
        },
        "id": "dAoEwcebNKV5",
        "outputId": "684c3a60-23a5-4be5-8e4c-59b778245672"
      },
      "execution_count": null,
      "outputs": [
        {
          "output_type": "stream",
          "name": "stdout",
          "text": [
            "The key is Nepal\n",
            "The value is Kathmandu\n",
            "The key is India\n",
            "The value is New Delhi\n",
            "The key is China\n",
            "The value is Beijing\n",
            "The key is Pakistan\n",
            "The value is Islamabad\n",
            "The key is Bhutan\n",
            "The value is Thimpu\n"
          ]
        }
      ]
    },
    {
      "cell_type": "markdown",
      "source": [
        "# Nested Dictionary"
      ],
      "metadata": {
        "id": "KUWV3ROUO0Sv"
      }
    },
    {
      "cell_type": "code",
      "source": [
        "childrens = {\n",
        "    'child1': {'name': \"John\", 'age' : 28},\n",
        "    'child2': {'name': \"Andy\", 'school': 'boston'},\n",
        "    'child3': {'name': \"Andrew\", 'gender':'M'}\n",
        "}"
      ],
      "metadata": {
        "id": "kS4yFR2vOy2E"
      },
      "execution_count": null,
      "outputs": []
    },
    {
      "cell_type": "code",
      "source": [
        "childrens['child3']['gender']"
      ],
      "metadata": {
        "colab": {
          "base_uri": "https://localhost:8080/",
          "height": 35
        },
        "id": "IAjWQZDhPURd",
        "outputId": "ffd07a22-be3f-40cc-d6e9-eddae24cf7b6"
      },
      "execution_count": null,
      "outputs": [
        {
          "output_type": "execute_result",
          "data": {
            "text/plain": [
              "'M'"
            ],
            "application/vnd.google.colaboratory.intrinsic+json": {
              "type": "string"
            }
          },
          "metadata": {},
          "execution_count": 58
        }
      ]
    },
    {
      "cell_type": "code",
      "source": [
        "childrens['child2']['gender']"
      ],
      "metadata": {
        "id": "ma2_BqcKPcs4"
      },
      "execution_count": null,
      "outputs": []
    },
    {
      "cell_type": "code",
      "source": [
        "childrens.get('child3').get('gender')"
      ],
      "metadata": {
        "colab": {
          "base_uri": "https://localhost:8080/",
          "height": 35
        },
        "id": "Qjwd8Pd1PqG_",
        "outputId": "a2c3a753-d8e8-4a0c-b28b-f44f039273dd"
      },
      "execution_count": null,
      "outputs": [
        {
          "output_type": "execute_result",
          "data": {
            "text/plain": [
              "'M'"
            ],
            "application/vnd.google.colaboratory.intrinsic+json": {
              "type": "string"
            }
          },
          "metadata": {},
          "execution_count": 59
        }
      ]
    },
    {
      "cell_type": "markdown",
      "source": [
        "# Functions in Python"
      ],
      "metadata": {
        "id": "QjUdt3-SP2Bs"
      }
    },
    {
      "cell_type": "code",
      "source": [
        "# classic method\n",
        "a = 20\n",
        "\n",
        "b = 8\n",
        "\n",
        "c = a+b\n",
        "\n",
        "print(c)"
      ],
      "metadata": {
        "colab": {
          "base_uri": "https://localhost:8080/"
        },
        "id": "yFEelcvdP_EP",
        "outputId": "a58c61ad-6316-473e-a80a-356f3ddd31f4"
      },
      "execution_count": null,
      "outputs": [
        {
          "output_type": "stream",
          "name": "stdout",
          "text": [
            "28\n"
          ]
        }
      ]
    },
    {
      "cell_type": "code",
      "source": [
        "# defining function\n",
        "def add():\n",
        "    a = 20\n",
        "    b = 8\n",
        "    c = a + b\n",
        "    print(c)"
      ],
      "metadata": {
        "id": "y5rHoV-lQi-U"
      },
      "execution_count": null,
      "outputs": []
    },
    {
      "cell_type": "code",
      "source": [
        "# calling the function\n",
        "add()"
      ],
      "metadata": {
        "colab": {
          "base_uri": "https://localhost:8080/"
        },
        "id": "2WGBrq-cQiqd",
        "outputId": "5f9c0c4f-4e12-493d-9e65-79965d7f0e94"
      },
      "execution_count": null,
      "outputs": [
        {
          "output_type": "stream",
          "name": "stdout",
          "text": [
            "28\n"
          ]
        }
      ]
    },
    {
      "cell_type": "code",
      "source": [
        "add()   # i can call the function any number of times i want"
      ],
      "metadata": {
        "colab": {
          "base_uri": "https://localhost:8080/"
        },
        "id": "2nIExv_hRI7s",
        "outputId": "a7e961a3-6edf-40a9-b1f2-c57c1dc9db7c"
      },
      "execution_count": null,
      "outputs": [
        {
          "output_type": "stream",
          "name": "stdout",
          "text": [
            "28\n"
          ]
        }
      ]
    },
    {
      "cell_type": "markdown",
      "source": [
        "### some dude sent in the meeting\n",
        "```\n",
        "s = \"Hsenid\"\n",
        "for i in range(len(s)-1, -1, -1):\n",
        "    print(s[i])\n",
        "```"
      ],
      "metadata": {
        "id": "1BLix9RRR4JI"
      }
    },
    {
      "cell_type": "code",
      "source": [
        "def add(a,b):   # a , b are arguments given by the user\n",
        "    c = a + b\n",
        "    print(c)"
      ],
      "metadata": {
        "id": "Y4KbRCXLSGrz"
      },
      "execution_count": null,
      "outputs": []
    },
    {
      "cell_type": "code",
      "source": [
        "add(7, 3)"
      ],
      "metadata": {
        "colab": {
          "base_uri": "https://localhost:8080/"
        },
        "id": "oqnEWfvrSMzi",
        "outputId": "54bf6259-206d-4305-c05c-7c7958b9a6b4"
      },
      "execution_count": null,
      "outputs": [
        {
          "output_type": "stream",
          "name": "stdout",
          "text": [
            "10\n"
          ]
        }
      ]
    },
    {
      "cell_type": "code",
      "source": [
        "add(5, 8)"
      ],
      "metadata": {
        "colab": {
          "base_uri": "https://localhost:8080/"
        },
        "id": "hiDRTeWDSZSq",
        "outputId": "80d028bb-8744-40bf-ce43-c52cd22413a6"
      },
      "execution_count": null,
      "outputs": [
        {
          "output_type": "stream",
          "name": "stdout",
          "text": [
            "13\n"
          ]
        }
      ]
    },
    {
      "cell_type": "markdown",
      "source": [
        "# WAP to add two numbers and square the total sum."
      ],
      "metadata": {
        "id": "22U_pzjRSbfu"
      }
    },
    {
      "cell_type": "code",
      "source": [
        "def add(a, b):\n",
        "    c = a + b\n",
        "    return c"
      ],
      "metadata": {
        "id": "xiCnhn2fSgKG"
      },
      "execution_count": null,
      "outputs": []
    },
    {
      "cell_type": "code",
      "source": [
        "total = add(6, 14)"
      ],
      "metadata": {
        "id": "pvk9JumeSlpW"
      },
      "execution_count": null,
      "outputs": []
    },
    {
      "cell_type": "code",
      "source": [
        "total ** 2"
      ],
      "metadata": {
        "colab": {
          "base_uri": "https://localhost:8080/"
        },
        "id": "2wS5zmB6Sp5r",
        "outputId": "595ef23f-1e99-4bc8-dae1-f9875acbdbb1"
      },
      "execution_count": null,
      "outputs": [
        {
          "output_type": "execute_result",
          "data": {
            "text/plain": [
              "400"
            ]
          },
          "metadata": {},
          "execution_count": 86
        }
      ]
    },
    {
      "cell_type": "code",
      "source": [
        "def greet(name, msg):\n",
        "    print(\"Hello {} , {}\".format(name, msg))"
      ],
      "metadata": {
        "id": "D49FjDEdTaWz"
      },
      "execution_count": null,
      "outputs": []
    },
    {
      "cell_type": "code",
      "source": [
        "greet(\"Nirajan\", \"Good Morning\")"
      ],
      "metadata": {
        "colab": {
          "base_uri": "https://localhost:8080/"
        },
        "id": "7J8vE2cjT4F0",
        "outputId": "d58a8a25-3c99-4818-ce65-be9286d66738"
      },
      "execution_count": null,
      "outputs": [
        {
          "output_type": "stream",
          "name": "stdout",
          "text": [
            "Hello Nirajan , Good Morning\n"
          ]
        }
      ]
    },
    {
      "cell_type": "code",
      "source": [
        "greet(\"Ram\", \"Good Morning\")"
      ],
      "metadata": {
        "colab": {
          "base_uri": "https://localhost:8080/"
        },
        "id": "WlL-2w9HUBsz",
        "outputId": "b9596d25-a961-4d83-ab1c-abaead9d32a6"
      },
      "execution_count": null,
      "outputs": [
        {
          "output_type": "stream",
          "name": "stdout",
          "text": [
            "Hello Ram , Good Morning\n"
          ]
        }
      ]
    },
    {
      "cell_type": "markdown",
      "source": [
        "# Default argument in python\n"
      ],
      "metadata": {
        "id": "rhCoZDTzUGGL"
      }
    },
    {
      "cell_type": "code",
      "source": [
        "def greet(name, msg = \"Good Morning\"):\n",
        "    print(\"Hello {} , {}\".format(name, msg))"
      ],
      "metadata": {
        "id": "zjN1p6rgULxA"
      },
      "execution_count": null,
      "outputs": []
    },
    {
      "cell_type": "code",
      "source": [
        "greet(\"Nirajan\")"
      ],
      "metadata": {
        "colab": {
          "base_uri": "https://localhost:8080/"
        },
        "id": "I9Bd5Ki9UQS-",
        "outputId": "e84a2494-0bfd-4912-cc5e-c120214e84e1"
      },
      "execution_count": null,
      "outputs": [
        {
          "output_type": "stream",
          "name": "stdout",
          "text": [
            "Hello Nirajan , Good Morning\n"
          ]
        }
      ]
    },
    {
      "cell_type": "code",
      "source": [
        "greet(\"Nirajan\", \"Good Evening\")"
      ],
      "metadata": {
        "colab": {
          "base_uri": "https://localhost:8080/"
        },
        "id": "orNJTUsyUXIi",
        "outputId": "ef5c8878-ba5f-4f50-b617-13a8b4a434a4"
      },
      "execution_count": null,
      "outputs": [
        {
          "output_type": "stream",
          "name": "stdout",
          "text": [
            "Hello Nirajan , Good Evening\n"
          ]
        }
      ]
    },
    {
      "cell_type": "code",
      "source": [],
      "metadata": {
        "id": "6fHZvhs3UbUp"
      },
      "execution_count": null,
      "outputs": []
    }
  ]
}