{
  "nbformat": 4,
  "nbformat_minor": 0,
  "metadata": {
    "colab": {
      "provenance": []
    },
    "kernelspec": {
      "name": "python3",
      "display_name": "Python 3"
    },
    "language_info": {
      "name": "python"
    }
  },
  "cells": [
    {
      "cell_type": "markdown",
      "source": [
        "# ASSIGNMENT -2  PYTHON FOR RESEARCH"
      ],
      "metadata": {
        "id": "gQFGhuvuC4BS"
      }
    },
    {
      "cell_type": "markdown",
      "source": [
        "# 1. Write a program to check if the given input is 10 or not. If it is 10 print the number else print input is not 10"
      ],
      "metadata": {
        "id": "kQZCbTaxDLXS"
      }
    },
    {
      "cell_type": "code",
      "source": [
        "# Ask the user to input a number.\n",
        "n = int(input(\"Enter a number : \"))\n",
        "if n == 10:\n",
        "    print(\"The Number is Ten.\")\n",
        "else:\n",
        "    print(\"The Number is not Ten.\")"
      ],
      "metadata": {
        "colab": {
          "base_uri": "https://localhost:8080/"
        },
        "id": "vmfFkAQADdfe",
        "outputId": "888aa990-f07f-43c2-9813-b11866330366"
      },
      "execution_count": 2,
      "outputs": [
        {
          "output_type": "stream",
          "name": "stdout",
          "text": [
            "Enter a number : 5\n",
            "The Number is not Ten.\n"
          ]
        }
      ]
    },
    {
      "cell_type": "markdown",
      "source": [
        "# 2. WAP to check whether the user-given input integer is a positive or negative Number. If it is positive print the square of the number else prints the cube of the user-given input."
      ],
      "metadata": {
        "id": "8V3hLGKlEZTN"
      }
    },
    {
      "cell_type": "code",
      "source": [
        "# Ask the user to input a number.\n",
        "n = int(input(\"Enter a number : \"))\n",
        "\n",
        "# Applying the conditions: if the user-defined value is positive, print the square of the number, else print the cube of the user-input value.\n",
        "if n > 0:\n",
        "    a = n**2\n",
        "    print(\"The Number is positive, and the square of the number\", n , \"is : \", a)\n",
        "else:\n",
        "    b = n**3\n",
        "    print(\"The Number is negative, and the cube of the number\", n , \"is :\", b)"
      ],
      "metadata": {
        "colab": {
          "base_uri": "https://localhost:8080/"
        },
        "id": "gc0m8hDREntv",
        "outputId": "c377fb49-4d05-41d7-ebc0-f081ac16a8f7"
      },
      "execution_count": 4,
      "outputs": [
        {
          "output_type": "stream",
          "name": "stdout",
          "text": [
            "Enter a number : -6\n",
            "The Number is negative, and the cube of the number -6 is : -216\n"
          ]
        }
      ]
    },
    {
      "cell_type": "markdown",
      "source": [
        "# 3.  Write a program to display \"Hello\" if a number entered by the user is a multiple of five,  otherwise print \"Bye\"."
      ],
      "metadata": {
        "id": "Ut6rLIPSF6tV"
      }
    },
    {
      "cell_type": "code",
      "source": [
        "n = int(input(\"Ente a number : \"))\n",
        "if n % 5 == 0:\n",
        "    print(\"Hello!\")\n",
        "else:\n",
        "    print(\"Bye\")"
      ],
      "metadata": {
        "colab": {
          "base_uri": "https://localhost:8080/"
        },
        "id": "VE9hOJ3GGDF1",
        "outputId": "ae9ebeb3-2812-49a4-8088-cdc25951a5e6"
      },
      "execution_count": 9,
      "outputs": [
        {
          "output_type": "stream",
          "name": "stdout",
          "text": [
            "Ente a number : 16\n",
            "Bye\n"
          ]
        }
      ]
    },
    {
      "cell_type": "markdown",
      "source": [
        "# 4. Write a program to check whether the last digit of a number ( entered by the user ) is divisible by 3 or not."
      ],
      "metadata": {
        "id": "TZ5ExMhyLdfh"
      }
    },
    {
      "cell_type": "code",
      "source": [
        "num=int(input(\"Enter a number:\"))\n",
        "last_digit = num % 10     # this gives the last number as remainder\n",
        "if(last_digit % 3 == 0):  # Applying the conditions:\n",
        "    print(\"{} is divisible by 3 \".format(last_digit))\n",
        "else:\n",
        "    print(\"{} is not divisible by 3\".format(last_digit))"
      ],
      "metadata": {
        "colab": {
          "base_uri": "https://localhost:8080/"
        },
        "id": "TYONMPJyQUtR",
        "outputId": "325ddddd-4b52-4a7c-b648-128f177705e0"
      },
      "execution_count": 14,
      "outputs": [
        {
          "output_type": "stream",
          "name": "stdout",
          "text": [
            "Enter a number:373736363447\n",
            "7 is not divisible by 3\n"
          ]
        }
      ]
    },
    {
      "cell_type": "markdown",
      "source": [
        "# 5. The volume of a sphere with radius r is 4/3 π r3. What is the volume of a sphere with a radius of 5?"
      ],
      "metadata": {
        "id": "uCzbQwmmUIra"
      }
    },
    {
      "cell_type": "code",
      "source": [
        "# inporting math module\n",
        "import math\n",
        "# The variable for radius is assigned to r.\n",
        "r = 5\n",
        "vol = ((4/3) * math.pi * r ** 3)\n",
        "print ('The volume of a sphere is: ', vol)"
      ],
      "metadata": {
        "colab": {
          "base_uri": "https://localhost:8080/"
        },
        "id": "YGgLY5DaUtG_",
        "outputId": "12a8841f-0378-4358-a26b-4ffc355e000a"
      },
      "execution_count": 18,
      "outputs": [
        {
          "output_type": "stream",
          "name": "stdout",
          "text": [
            "The volume of a sphere is:  523.5987755982989\n"
          ]
        }
      ]
    },
    {
      "cell_type": "markdown",
      "source": [
        "# 6. WAP to Find the Largest Among Three Numbers"
      ],
      "metadata": {
        "id": "7g1wqWz4WaWh"
      }
    },
    {
      "cell_type": "code",
      "source": [
        "# Program to Find the Greatest Number Among Three Numbers.\n",
        "\n",
        "# Creating three variables 'a', 'b', 'c', asking the values and storing three numbers separately in the variables.\n",
        "\n",
        "a = int(input(\"Enter the first number: \"))\n",
        "b = int(input(\"Enter the second number: \"))\n",
        "c = int(input(\"Enter the third number: \"))\n",
        "\n",
        "if (a > b) and (a > c):\n",
        "   largest = a\n",
        "elif (b > a) and (b > c):\n",
        "   largest = b\n",
        "else:\n",
        "   largest = c\n",
        "\n",
        "print(\"The biggest number is: \", largest)"
      ],
      "metadata": {
        "colab": {
          "base_uri": "https://localhost:8080/"
        },
        "id": "F3Pq_OCiWg6g",
        "outputId": "c142e22d-d2ec-4f05-becf-f07af36031b2"
      },
      "execution_count": 19,
      "outputs": [
        {
          "output_type": "stream",
          "name": "stdout",
          "text": [
            "Enter the first number: 45\n",
            "Enter the second number: 34\n",
            "Enter the third number: 56\n",
            "The biggest number is:  56\n"
          ]
        }
      ]
    },
    {
      "cell_type": "markdown",
      "source": [
        "# 7. A school has the following rules for the grading system:\n",
        "\n",
        "*   Below 25 - F\n",
        "*   25 to 45 - E\n",
        "*   45 to 50 - D\n",
        "*   50 to 60 - C\n",
        "*   60 to 80 - B\n",
        "*   80 or Above 80 - A\n",
        "\n",
        "Ask the user to enter marks and print the corresponding grade."
      ],
      "metadata": {
        "id": "xgwIpHNQXoIx"
      }
    },
    {
      "cell_type": "code",
      "source": [
        "print(\"Enter the student details below : \")\n",
        "\n",
        "name = input(\"Enter the name of a student :  \")\n",
        "grade = int(input(\"Enter the class of the student : \"))\n",
        "roll_no = int(input(\"Enter the roll number of the student : \"))\n",
        "\n",
        "print(\"Enter the marks obtained by the student below for the following subjects:\")\n",
        "# Entering the marks for the subjects. The subjects include English, Nepali, Mathematics, Physics, Chemistry, Computer, Social Studies and Life Skills.\n",
        "Eng = float(input(\"English : \"))\n",
        "Nep = float(input(\"Nepali : \"))\n",
        "Math = float(input(\"Mathematics : \"))\n",
        "Phy = float(input(\"Physics : \"))\n",
        "Chem = float(input(\"Chemistry : \"))\n",
        "Comp = float(input(\"Computer : \"))\n",
        "Soc = float(input(\"Social Studies : \"))\n",
        "Lski = float(input(\"Life Skills : \"))\n",
        "\n",
        "# Adding the marks of all the subjects. Creating a variable called 'total' for summation of marks of subjects.\n",
        "total = Eng+Nep+Math+Phy+Chem+Comp+Soc+Lski\n",
        "# Creating a variable called 'avg' to calculate the average of total marks.\n",
        "avg = total/8\n",
        "\n",
        "# Processing The Output\n",
        "print(\"Name: \", name)\n",
        "\n",
        "print(\"Grade: \", grade)\n",
        "\n",
        "print(\"Roll no: \", roll_no)\n",
        "\n",
        "print(\"The marks obtained in the examination are: \")\n",
        "\n",
        "print(\"English : \", Eng)\n",
        "print(\"Nepali : \", Nep)\n",
        "print(\"Mathematics : \", Math)\n",
        "print(\"Physics : \", Phy)\n",
        "print(\"Chemistry : \", Chem)\n",
        "print(\"Computer : \", Comp)\n",
        "print(\"Social Studies : \", Soc)\n",
        "print(\"Life Skills : \", Lski)\n",
        "print(\"The Total Marks Secured: \", total)\n",
        "\n",
        "\n",
        "if avg > 80:\n",
        "    print(\"Your Grade is A\")\n",
        "elif avg>=60 and avg<80:\n",
        "    print(\"Your Grade is B\")\n",
        "elif avg>=50 and avg<60:\n",
        "    print(\"Your Grade is C\")\n",
        "elif avg>=45 and avg<50:\n",
        "    print(\"Your Grade is D\")\n",
        "elif avg>=25 and avg<45:\n",
        "    print(\"Your Grade is E\")\n",
        "elif avg<25:\n",
        "    print(\"Your grade is F\")\n",
        "else:\n",
        "    print(\"Invalid Input!\")"
      ],
      "metadata": {
        "colab": {
          "base_uri": "https://localhost:8080/"
        },
        "id": "jvWaVopUYH-j",
        "outputId": "2874b487-78f9-4c1c-9bc5-326d9c546eee"
      },
      "execution_count": 24,
      "outputs": [
        {
          "output_type": "stream",
          "name": "stdout",
          "text": [
            "Enter the student details below : \n",
            "Enter the name of a student :  Nirajan Dhakal\n",
            "Enter the class of the student : 12\n",
            "Enter the roll number of the student : 007\n",
            "Enter the marks obtained by the student below for the following subjects:\n",
            "English : 86\n",
            "Nepali : 93\n",
            "Mathematics : 86\n",
            "Physics : 94\n",
            "Chemistry : 78\n",
            "Computer : 94\n",
            "Social Studies : 94\n",
            "Life Skills : 88\n",
            "Name:  Nirajan Dhakal\n",
            "Grade:  12\n",
            "Roll no:  7\n",
            "The marks obtained in the examination are: \n",
            "English :  86.0\n",
            "Nepali :  93.0\n",
            "Mathematics :  86.0\n",
            "Physics :  94.0\n",
            "Chemistry :  78.0\n",
            "Computer :  94.0\n",
            "Social Studies :  94.0\n",
            "Life Skills :  88.0\n",
            "The Total Marks Secured:  713.0\n",
            "Your Grade is A\n"
          ]
        }
      ]
    },
    {
      "cell_type": "markdown",
      "source": [
        "# 8. A company decided to give a bonus of 5% to the employee if his/her year of service is more than 5 years.\n",
        "\n",
        "Ask the users for their salary and year of service and print the net bonus amount."
      ],
      "metadata": {
        "id": "PbiuKkTpcUR1"
      }
    },
    {
      "cell_type": "code",
      "source": [
        "salary = eval(input(\"Enter your salary:\"))  \n",
        "# eval() allows you to evaluate arbitrary Python expressions from a string-based or compiled-code-based input.\n",
        "#This function can be handy when you're trying to dynamically evaluate Python expressions from any input that comes as a string \n",
        "# or a compiled code object.\n",
        "\n",
        "service_years = eval(input(\"Enter Years of service:\"))\n",
        "\n",
        "if service_years > 5:\n",
        "\n",
        "    print(\"Yours salary(+Bonus) = \",salary + (salary)*(service_years/100))\n",
        "\n",
        "else:\n",
        "\n",
        "     print(\"You are not eligible for bonus as you have less service years.\")"
      ],
      "metadata": {
        "colab": {
          "base_uri": "https://localhost:8080/"
        },
        "id": "9K93bRb3erA8",
        "outputId": "69817e72-c84b-4ecd-b581-8afe3780de70"
      },
      "execution_count": 28,
      "outputs": [
        {
          "output_type": "stream",
          "name": "stdout",
          "text": [
            "Enter your salary:45000\n",
            "Enter Years of service:8\n",
            "Yours salary(+Bonus) =  48600.0\n"
          ]
        }
      ]
    }
  ]
}