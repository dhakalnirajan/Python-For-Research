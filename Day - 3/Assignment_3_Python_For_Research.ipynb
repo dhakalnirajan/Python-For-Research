{
  "nbformat": 4,
  "nbformat_minor": 0,
  "metadata": {
    "colab": {
      "provenance": [],
      "collapsed_sections": []
    },
    "kernelspec": {
      "name": "python3",
      "display_name": "Python 3"
    },
    "language_info": {
      "name": "python"
    },
    "accelerator": "GPU"
  },
  "cells": [
    {
      "cell_type": "code",
      "execution_count": null,
      "metadata": {
        "id": "RMlmSJ6NlSot"
      },
      "outputs": [],
      "source": [
        "# We use GPU from GOOGLE cloud"
      ]
    },
    {
      "cell_type": "markdown",
      "source": [
        "# Assignment -3\n",
        "# Day -3\n",
        "# Python For Research"
      ],
      "metadata": {
        "id": "6wEVU6RkmLql"
      }
    },
    {
      "cell_type": "markdown",
      "source": [
        "# 1. Using the string manipulation technique, Extract the fruit's name from the text.\n",
        "\n",
        "\n",
        "\n",
        "```\n",
        "txt = \"I Like Orange Apple Banana and Kiwi.\"\n",
        "['orange', 'apple', 'Banana', 'Kiwi']\n",
        "```\n",
        "\n"
      ],
      "metadata": {
        "id": "ER7kpQbum4t0"
      }
    },
    {
      "cell_type": "code",
      "source": [
        "txt = 'I Like Orange Apple Banana and Kiwi'\n",
        "text = txt.lower()        # lowercasing the given string\n",
        "words = text.split()      # Splitting the words"
      ],
      "metadata": {
        "id": "W7S_lYobxYGs"
      },
      "execution_count": 16,
      "outputs": []
    },
    {
      "cell_type": "code",
      "source": [
        "last_index = len(words)\n",
        "words"
      ],
      "metadata": {
        "colab": {
          "base_uri": "https://localhost:8080/"
        },
        "id": "q5BAb9FD10X6",
        "outputId": "e3983c90-28c5-4e92-da94-0ef98ad89383"
      },
      "execution_count": 25,
      "outputs": [
        {
          "output_type": "execute_result",
          "data": {
            "text/plain": [
              "['i', 'like', 'orange', 'apple', 'banana', 'and', 'kiwi']"
            ]
          },
          "metadata": {},
          "execution_count": 25
        }
      ]
    },
    {
      "cell_type": "code",
      "source": [
        "words[2]      # Extracts third word from the given string\n",
        "words[3]      # Extracts fourth word from the given string\n",
        "words[4]      # Extracts fifth word from the given string\n",
        "words[6]      # Extracts seventh word from the given string\n",
        "\n",
        "print(\"[ '{}' , '{}', '{}', '{}' ]\".format(words[2], words[3], words[4], words[6]))"
      ],
      "metadata": {
        "colab": {
          "base_uri": "https://localhost:8080/"
        },
        "id": "aO8QEW_C1_MA",
        "outputId": "4e87e1c4-548f-4daa-b1c0-1948f8235ef6"
      },
      "execution_count": 28,
      "outputs": [
        {
          "output_type": "stream",
          "name": "stdout",
          "text": [
            "[ 'orange' , 'apple', 'banana', 'kiwi' ]\n"
          ]
        }
      ]
    },
    {
      "cell_type": "markdown",
      "source": [
        "# 2. WAP to count vowels and consonants on the given string."
      ],
      "metadata": {
        "id": "lL0jB6RW4-kS"
      }
    },
    {
      "cell_type": "code",
      "source": [
        "txt = input(\"Enter a string: \")\n",
        "vowels = 0\n",
        "consonants = 0\n",
        "\n",
        "for i in txt:\n",
        "    if i in \"aeiouAEIOU\":\n",
        "        vowels += 1\n",
        "    elif i in \"bcdfghjklmnpqrstvwxyzBCDFGHJKLMNPQRSTVWXYZ\":\n",
        "        consonants += 1\n",
        "\n",
        "print(\"Vowels: \", vowels)\n",
        "print(\"Consonants: \", consonants)"
      ],
      "metadata": {
        "colab": {
          "base_uri": "https://localhost:8080/"
        },
        "id": "qN0AV3qU5KWm",
        "outputId": "631d9b61-f3f3-41f5-b27e-fafa0aea32ff"
      },
      "execution_count": 30,
      "outputs": [
        {
          "output_type": "stream",
          "name": "stdout",
          "text": [
            "Enter a string: I like Orange Mango Apple and Kiwi\n",
            "Vowels:  13\n",
            "Consonants:  15\n"
          ]
        }
      ]
    },
    {
      "cell_type": "markdown",
      "source": [
        "# 3. Read a string from the user and print it in the reverse order using the loops and range() function."
      ],
      "metadata": {
        "id": "SUpVcp8c9uYw"
      }
    },
    {
      "cell_type": "code",
      "source": [
        "# Read a string from the user\n",
        "string = input(\"Enter a string: \")\n",
        "\n",
        "# Print the string in reverse order\n",
        "for i in range(len(string) - 1, -1, -1):\n",
        "    print(string[i], end=\"\")"
      ],
      "metadata": {
        "colab": {
          "base_uri": "https://localhost:8080/"
        },
        "id": "0Rd13mu1960i",
        "outputId": "205f70e1-7384-414c-d2e9-31eb1ce578e6"
      },
      "execution_count": 37,
      "outputs": [
        {
          "output_type": "stream",
          "name": "stdout",
          "text": [
            "Enter a string: I see you\n",
            "uoy ees I"
          ]
        }
      ]
    },
    {
      "cell_type": "markdown",
      "source": [
        "# 4. Python Program to display the table of 7."
      ],
      "metadata": {
        "id": "SDQZmARO-cb2"
      }
    },
    {
      "cell_type": "code",
      "source": [
        "list = [1, 2, 3, 4, 5, 6, 7, 8, 9, 10]\n",
        "\n",
        "for i in list:\n",
        "    print(\"7 x \", i , \" = \", i * 7)"
      ],
      "metadata": {
        "colab": {
          "base_uri": "https://localhost:8080/"
        },
        "id": "LSKBNyOp-bkR",
        "outputId": "0fc76040-239a-4a64-df69-814dc8c9c2fe"
      },
      "execution_count": 15,
      "outputs": [
        {
          "output_type": "stream",
          "name": "stdout",
          "text": [
            "7 x  1  =  7\n",
            "7 x  2  =  14\n",
            "7 x  3  =  21\n",
            "7 x  4  =  28\n",
            "7 x  5  =  35\n",
            "7 x  6  =  42\n",
            "7 x  7  =  49\n",
            "7 x  8  =  56\n",
            "7 x  9  =  63\n",
            "7 x  10  =  70\n"
          ]
        }
      ]
    },
    {
      "cell_type": "markdown",
      "source": [
        "# 5. Python Program to convert temperature in celsius to Fahrenheit."
      ],
      "metadata": {
        "id": "RCBvjOTnLIu4"
      }
    },
    {
      "cell_type": "code",
      "source": [
        "celsius = float(input(\"Enter the temperature in celsius: \"))\n",
        "fahrenheit = (celsius * 9/5) + 32\n",
        "print(\"The temperature in fahrenheit is: \", fahrenheit)"
      ],
      "metadata": {
        "colab": {
          "base_uri": "https://localhost:8080/"
        },
        "id": "Rj9s5QmNLRp2",
        "outputId": "6331230f-d00f-459e-dab3-f177a04aac74"
      },
      "execution_count": 16,
      "outputs": [
        {
          "output_type": "stream",
          "name": "stdout",
          "text": [
            "Enter the temperature in celsius: 37\n",
            "The temperature in fahrenheit is:  98.6\n"
          ]
        }
      ]
    }
  ]
}