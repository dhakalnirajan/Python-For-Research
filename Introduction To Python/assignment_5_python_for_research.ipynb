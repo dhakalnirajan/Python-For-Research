{
  "nbformat": 4,
  "nbformat_minor": 0,
  "metadata": {
    "colab": {
      "provenance": [],
      "collapsed_sections": []
    },
    "kernelspec": {
      "name": "python3",
      "display_name": "Python 3"
    },
    "language_info": {
      "name": "python"
    },
    "accelerator": "GPU"
  },
  "cells": [
    {
      "cell_type": "markdown",
      "source": [
        "# 1. Check if usergiven input is prime or not using python function.  Return True if prime return False otherwise\n"
      ],
      "metadata": {
        "id": "__Y5EFDx2dY8"
      }
    },
    {
      "cell_type": "code",
      "source": [
        "num = int(input(\"Enter a number: \"))\n",
        "\n",
        "def is_prime(num):\n",
        "    if num > 1:\n",
        "        for i in range(2, num):\n",
        "            if (num % i) == 0:\n",
        "                return False\n",
        "        else:\n",
        "            return True\n",
        "    else:\n",
        "        return False"
      ],
      "metadata": {
        "id": "_FDQbKRo8Yfv",
        "outputId": "41af8736-5ac8-4514-efed-3bb5df537827",
        "colab": {
          "base_uri": "https://localhost:8080/"
        }
      },
      "execution_count": null,
      "outputs": [
        {
          "name": "stdout",
          "output_type": "stream",
          "text": [
            "Enter a number: 5\n"
          ]
        }
      ]
    },
    {
      "cell_type": "code",
      "source": [
        "print(is_prime(num))"
      ],
      "metadata": {
        "id": "oYFVbUZb8Y3j",
        "outputId": "71d897a3-9b03-46ec-a11f-1b8079909d1e",
        "colab": {
          "base_uri": "https://localhost:8080/"
        }
      },
      "execution_count": null,
      "outputs": [
        {
          "output_type": "stream",
          "name": "stdout",
          "text": [
            "True\n"
          ]
        }
      ]
    },
    {
      "cell_type": "markdown",
      "source": [
        "# 2. Python function to print factorial of given number"
      ],
      "metadata": {
        "id": "MuePsnmV2nQk"
      }
    },
    {
      "cell_type": "code",
      "source": [
        "def factorial(num):\n",
        "    if num == 0:\n",
        "        return 1\n",
        "    else:\n",
        "        return num * factorial(num-1)"
      ],
      "metadata": {
        "id": "XV5Aw9xr8cvh"
      },
      "execution_count": null,
      "outputs": []
    },
    {
      "cell_type": "code",
      "source": [
        "num = int(input(\"Enter a number: \"))\n",
        "print(\"Factorial of\", num, \"is\", factorial(num))"
      ],
      "metadata": {
        "id": "DySidF608bJ0",
        "outputId": "63909e10-84b8-4c9d-e8db-53c315ca1eb7",
        "colab": {
          "base_uri": "https://localhost:8080/"
        }
      },
      "execution_count": null,
      "outputs": [
        {
          "output_type": "stream",
          "name": "stdout",
          "text": [
            "Enter a number: 6\n",
            "Factorial of 6 is 720\n"
          ]
        }
      ]
    },
    {
      "cell_type": "markdown",
      "source": [
        "# 3. Python Function to return the Sum of Natural Numbers\n"
      ],
      "metadata": {
        "id": "26vmCmzq2whJ"
      }
    },
    {
      "cell_type": "code",
      "source": [
        "def sum_natural_numbers(n):\n",
        "    if n < 0:\n",
        "        return 0\n",
        "    return n + sum_natural_numbers(n-1)"
      ],
      "metadata": {
        "id": "hl8HeSzI8fWl"
      },
      "execution_count": null,
      "outputs": []
    },
    {
      "cell_type": "code",
      "source": [
        "def main():\n",
        "    num = int(input())\n",
        "    print(sum_natural_numbers(num))\n",
        "\n",
        "if __name__ == '__main__':\n",
        "    main()"
      ],
      "metadata": {
        "id": "e9OEQ-_m8ebV",
        "outputId": "42b5f63a-f4e3-4817-9057-444df3c5e355",
        "colab": {
          "base_uri": "https://localhost:8080/"
        }
      },
      "execution_count": null,
      "outputs": [
        {
          "output_type": "stream",
          "name": "stdout",
          "text": [
            "6\n",
            "21\n"
          ]
        }
      ]
    },
    {
      "cell_type": "markdown",
      "source": [
        "# 4. Python function to return HCF of given two numbers."
      ],
      "metadata": {
        "id": "WOkOkgkv2-SY"
      }
    },
    {
      "cell_type": "code",
      "source": [
        "def hcf(x, y):\n",
        "    if x > y:\n",
        "        smaller = y\n",
        "    else:\n",
        "        smaller = x\n",
        "    for i in range(1, smaller+1):\n",
        "        if((x % i == 0) and (y % i == 0)):\n",
        "            hcf = i\n",
        "    return hcf"
      ],
      "metadata": {
        "id": "L71pHtlo8hj_"
      },
      "execution_count": null,
      "outputs": []
    },
    {
      "cell_type": "code",
      "source": [
        "num1 = int(input(\"Enter first number: \"))\n",
        "num2 = int(input(\"Enter second number: \"))\n",
        "print(\"The H.C.F. of\", num1, \"and\", num2, \"is\", hcf(num1, num2))"
      ],
      "metadata": {
        "id": "YLDpBiFZ8gtE",
        "outputId": "4cfecc90-8270-4548-d8df-05c8d531a940",
        "colab": {
          "base_uri": "https://localhost:8080/"
        }
      },
      "execution_count": null,
      "outputs": [
        {
          "output_type": "stream",
          "name": "stdout",
          "text": [
            "Enter first number: 2\n",
            "Enter second number: 8\n",
            "The H.C.F. of 2 and 8 is 2\n"
          ]
        }
      ]
    },
    {
      "cell_type": "markdown",
      "source": [
        "\n",
        "# 4. Find the linear interpolation at x=1.5 based on the data x = [0, 1, 2], y = [1, 3, 2] using python function.\n",
        "\n",
        "\n",
        "$$\\hat{y}(x) = y_i + \\frac{(y_{i+1} - y_{i})(x - x_{i})}{(x_{i+1} - x_{i})}$$\n",
        "\n",
        "Since $1<x<2$, \n",
        "we use the second and third data points to compute the linear interpolation. Plug the values\n",
        "\n",
        "$$ x = 1.5 \\\\x_i = 1 \\\\ x_{i+1} = 2 \\\\ y_i = 3 \\\\ y_{i+1} = 2 $$\n",
        "\n",
        "<br>\n",
        "\n",
        "$$ \\hat{y}(x) = y_i + \\frac{(y_{i+1} - y_{i})(x - x_{i})}{(x_{i+1} - x_{i})} = 3 + \\frac{(2 - 3)(1.5 - 1)}{(2 - 1)}$$"
      ],
      "metadata": {
        "id": "dwAwaLZ3yNan"
      }
    },
    {
      "cell_type": "code",
      "source": [
        "def interpolate(x, y):\n",
        "    y_hat = y[0]+((y[1]-y[0])*(x[2]-x[0]))/(x[1]-x[0])\n",
        "    return y_hat"
      ],
      "metadata": {
        "id": "CG2qSz-xyNzL"
      },
      "execution_count": 1,
      "outputs": []
    },
    {
      "cell_type": "code",
      "source": [
        "x=[1,2,1.5]\n",
        "y=[3,2]\n",
        "print(interpolate(x,y))"
      ],
      "metadata": {
        "id": "7SEFHBuDzEl9",
        "colab": {
          "base_uri": "https://localhost:8080/"
        },
        "outputId": "5057fe45-5812-4adb-9a4d-3ae77be96be9"
      },
      "execution_count": 2,
      "outputs": [
        {
          "output_type": "stream",
          "name": "stdout",
          "text": [
            "2.5\n"
          ]
        }
      ]
    }
  ]
}