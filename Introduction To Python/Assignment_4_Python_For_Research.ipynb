{
  "nbformat": 4,
  "nbformat_minor": 0,
  "metadata": {
    "colab": {
      "provenance": [],
      "collapsed_sections": []
    },
    "kernelspec": {
      "name": "python3",
      "display_name": "Python 3"
    },
    "language_info": {
      "name": "python"
    },
    "accelerator": "GPU"
  },
  "cells": [
    {
      "cell_type": "markdown",
      "source": [
        "# Assignment - 4\n",
        "\n",
        "## Python For Research"
      ],
      "metadata": {
        "id": "Y9bzLzSMm2jk"
      }
    },
    {
      "cell_type": "markdown",
      "source": [
        "# 1. 1. Calculate mean using the range() method\n",
        "scores = [20, 22, 59, 49, 27, 0, 62, 40, 58, 92, 36, 63, 75, 50, 73, 7, 49, 82, 1, 79]"
      ],
      "metadata": {
        "id": "I2xvyJmdnc1v"
      }
    },
    {
      "cell_type": "code",
      "execution_count": 3,
      "metadata": {
        "colab": {
          "base_uri": "https://localhost:8080/"
        },
        "id": "HMmXJRoPjecV",
        "outputId": "85c4a35d-9307-4d19-9191-bef4ffee3327"
      },
      "outputs": [
        {
          "output_type": "stream",
          "name": "stdout",
          "text": [
            "47.2\n"
          ]
        }
      ],
      "source": [
        "scores = [20, 22, 59, 49, 27, 0, 62, 40, 58, 92, 36, 63, 75, 50, 73, 7, 49, 82, 1, 79]\n",
        "\n",
        "# Calculate the mean\n",
        "mean = sum(scores) / len(scores)\n",
        "\n",
        "# Print the mean\n",
        "print(mean)     # The output is 45.15 and the program rounds off the value."
      ]
    },
    {
      "cell_type": "markdown",
      "source": [
        "# 2. Sort the following number in reverse order:\n",
        "\n",
        "numbers = [9, -5, 0, -12, 12,13,15,1,2,13]"
      ],
      "metadata": {
        "id": "dx8kfuxrn-eV"
      }
    },
    {
      "cell_type": "code",
      "source": [
        "numbers = [9, -5, 0, -12, 12,13,15,1,2,13]\n",
        "numbers.sort(reverse=True)\n",
        "print(numbers)    # the function sorts through descending order in reverse."
      ],
      "metadata": {
        "colab": {
          "base_uri": "https://localhost:8080/"
        },
        "id": "GNNPUN84oDTs",
        "outputId": "567287de-1270-4353-9a5b-a549bc69e5aa"
      },
      "execution_count": 2,
      "outputs": [
        {
          "output_type": "stream",
          "name": "stdout",
          "text": [
            "[15, 13, 13, 12, 9, 2, 1, 0, -5, -12]\n"
          ]
        }
      ]
    },
    {
      "cell_type": "markdown",
      "source": [
        "# Write a program that stores squares(from 1 to 10)  of numbers in a list."
      ],
      "metadata": {
        "id": "1tPC0eZOpBrq"
      }
    },
    {
      "cell_type": "code",
      "source": [
        "squares = []\n",
        "for i in range(1, 11):\n",
        "    squares.append(i ** 2)\n",
        "\n",
        "print(squares)"
      ],
      "metadata": {
        "colab": {
          "base_uri": "https://localhost:8080/"
        },
        "id": "WjPvn91oonTg",
        "outputId": "6d83a0d8-80c0-4374-aa0c-354c0437542c"
      },
      "execution_count": 6,
      "outputs": [
        {
          "output_type": "stream",
          "name": "stdout",
          "text": [
            "[1, 4, 9, 16, 25, 36, 49, 64, 81, 100]\n"
          ]
        }
      ]
    },
    {
      "cell_type": "markdown",
      "source": [
        "# 4. WAP to the lowercase item in the given list using list comprehension\n",
        "fruits = [\"APPLE\", \"BANANA\", \"MANGO\", \"ORANGE\"]"
      ],
      "metadata": {
        "id": "byVPS5e8pzvd"
      }
    },
    {
      "cell_type": "code",
      "source": [
        "fruits = [\"APPLE\", \"BANANA\", \"MANGO\", \"ORANGE\"]\n",
        "\n",
        "print([x.lower() for x in fruits])"
      ],
      "metadata": {
        "colab": {
          "base_uri": "https://localhost:8080/"
        },
        "id": "U6hLxd5Rp8tw",
        "outputId": "8c5b8743-b708-43e9-a40b-f64f20f4684c"
      },
      "execution_count": 12,
      "outputs": [
        {
          "output_type": "stream",
          "name": "stdout",
          "text": [
            "['apple', 'banana', 'mango', 'orange']\n"
          ]
        }
      ]
    },
    {
      "cell_type": "markdown",
      "source": [
        "# 5. Accept only numbers lower than 5 from -5 to 10. Use If condition on list comprehension."
      ],
      "metadata": {
        "id": "m37sdJWrqEVQ"
      }
    },
    {
      "cell_type": "code",
      "source": [
        "# list comprehension\n",
        "\n",
        "numbers = [number for number in range(-5, 10) if number < 5]\n",
        "print(numbers)\n"
      ],
      "metadata": {
        "colab": {
          "base_uri": "https://localhost:8080/"
        },
        "id": "Rq6oF47UqIfW",
        "outputId": "e79386df-fc5d-4600-b032-064ede57eca7"
      },
      "execution_count": 15,
      "outputs": [
        {
          "output_type": "stream",
          "name": "stdout",
          "text": [
            "[-5, -4, -3, -2, -1, 0, 1, 2, 3, 4]\n"
          ]
        }
      ]
    },
    {
      "cell_type": "code",
      "source": [
        "# list comprehension with if condition\n",
        "\n",
        "numbers = [number for number in range(-5, 10) if number < 5 and number > -5]\n",
        "print(numbers)"
      ],
      "metadata": {
        "colab": {
          "base_uri": "https://localhost:8080/"
        },
        "id": "QIkq7JI4qQK3",
        "outputId": "d58d7994-83be-4f8f-cb89-c1bcbc8bcdec"
      },
      "execution_count": 16,
      "outputs": [
        {
          "output_type": "stream",
          "name": "stdout",
          "text": [
            "[-4, -3, -2, -1, 0, 1, 2, 3, 4]\n"
          ]
        }
      ]
    }
  ]
}