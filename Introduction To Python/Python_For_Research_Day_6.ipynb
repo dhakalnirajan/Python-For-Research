{
  "nbformat": 4,
  "nbformat_minor": 0,
  "metadata": {
    "colab": {
      "provenance": [],
      "collapsed_sections": []
    },
    "kernelspec": {
      "name": "python3",
      "display_name": "Python 3"
    },
    "language_info": {
      "name": "python"
    },
    "accelerator": "GPU"
  },
  "cells": [
    {
      "cell_type": "markdown",
      "source": [
        "# Day 6"
      ],
      "metadata": {
        "id": "ZlBOTygKKSPR"
      }
    },
    {
      "cell_type": "code",
      "execution_count": null,
      "metadata": {
        "id": "_vQocJmdKHg4"
      },
      "outputs": [],
      "source": [
        "# Function\n",
        "def function_name(arguments):\n",
        "    return expression"
      ]
    },
    {
      "cell_type": "markdown",
      "source": [
        "# Default Argument vs non-default Argument"
      ],
      "metadata": {
        "id": "ivnm7WnDOaNZ"
      }
    },
    {
      "cell_type": "code",
      "source": [
        "def greet(name, msg):\n",
        "    print(f\"Hello, {name} {msg}\")"
      ],
      "metadata": {
        "id": "NGqorWQqNpQ8"
      },
      "execution_count": null,
      "outputs": []
    },
    {
      "cell_type": "code",
      "source": [
        "greet(\"ram\", \"GM\")"
      ],
      "metadata": {
        "colab": {
          "base_uri": "https://localhost:8080/"
        },
        "id": "JIRqAFfZN5ot",
        "outputId": "9efb5c6d-85d9-4911-b878-d3f3afe8cb9a"
      },
      "execution_count": null,
      "outputs": [
        {
          "output_type": "stream",
          "name": "stdout",
          "text": [
            "Hello, ram GM\n"
          ]
        }
      ]
    },
    {
      "cell_type": "code",
      "source": [
        "greet(\"shyam\", \"Good Morning\")"
      ],
      "metadata": {
        "colab": {
          "base_uri": "https://localhost:8080/"
        },
        "id": "Yh8Ae3ItN8te",
        "outputId": "54e6cc5e-51b0-4b7b-85d1-28607d90f21d"
      },
      "execution_count": null,
      "outputs": [
        {
          "output_type": "stream",
          "name": "stdout",
          "text": [
            "Hello, shyam Good Morning\n"
          ]
        }
      ]
    },
    {
      "cell_type": "code",
      "source": [
        "greet(\"Hari\", \"Good Evening\")"
      ],
      "metadata": {
        "colab": {
          "base_uri": "https://localhost:8080/"
        },
        "id": "CNmer1BeOArl",
        "outputId": "705a01e0-0325-4010-f9a5-b83f14e5561b"
      },
      "execution_count": null,
      "outputs": [
        {
          "output_type": "stream",
          "name": "stdout",
          "text": [
            "Hello, Hari Good Evening\n"
          ]
        }
      ]
    },
    {
      "cell_type": "markdown",
      "source": [
        "# Multiple return value"
      ],
      "metadata": {
        "id": "tjIBj7LdOzR9"
      }
    },
    {
      "cell_type": "code",
      "source": [
        "def add(num1, num2):\n",
        "    total = 0\n",
        "    total = num1 + num2\n",
        "    return num1, num2, total"
      ],
      "metadata": {
        "id": "ottpd-X_OMT7"
      },
      "execution_count": null,
      "outputs": []
    },
    {
      "cell_type": "code",
      "source": [
        "type(add(3, 4))"
      ],
      "metadata": {
        "colab": {
          "base_uri": "https://localhost:8080/"
        },
        "id": "_uul_0YYO_ru",
        "outputId": "c0073429-ea07-4495-eb2c-821599ebb0ef"
      },
      "execution_count": null,
      "outputs": [
        {
          "output_type": "execute_result",
          "data": {
            "text/plain": [
              "tuple"
            ]
          },
          "metadata": {},
          "execution_count": 9
        }
      ]
    },
    {
      "cell_type": "code",
      "source": [
        "num1, num2, total = add(3, 4)"
      ],
      "metadata": {
        "id": "c6s8yFbmPDf4"
      },
      "execution_count": null,
      "outputs": []
    },
    {
      "cell_type": "code",
      "source": [
        "total"
      ],
      "metadata": {
        "colab": {
          "base_uri": "https://localhost:8080/"
        },
        "id": "nCcOkGoePKu4",
        "outputId": "4ee621b0-f931-45b9-9e32-0bec0e7b452a"
      },
      "execution_count": null,
      "outputs": [
        {
          "output_type": "execute_result",
          "data": {
            "text/plain": [
              "7"
            ]
          },
          "metadata": {},
          "execution_count": 11
        }
      ]
    },
    {
      "cell_type": "markdown",
      "source": [
        "# WAP to find the factorial of given numbers.\n",
        "\n",
        "0! = 1\n",
        "\n",
        "1! = 1\n",
        "\n",
        "2! = 2 * 1! = 2 * 1\n",
        "\n",
        "3! = 3 * 2! = 3 * 2 * 1\n",
        "\n",
        "4! = 4 * 3! = 4 * 3 * 2 * 1\n",
        "\n",
        "5! = 5 * 4! = 5 * 4 * 3 * 2 * 1\n"
      ],
      "metadata": {
        "id": "oTH-UV18PYPs"
      }
    },
    {
      "cell_type": "code",
      "source": [
        "def find_factorial(num):\n",
        "    if num == 0:\n",
        "        return 1\n",
        "\n",
        "    fact = 1\n",
        "\n",
        "    for i in range(1, num + 1):\n",
        "        fact = fact * i\n",
        "    return fact"
      ],
      "metadata": {
        "id": "CrDJdiMGPd9B"
      },
      "execution_count": null,
      "outputs": []
    },
    {
      "cell_type": "code",
      "source": [
        "find_factorial(5)"
      ],
      "metadata": {
        "colab": {
          "base_uri": "https://localhost:8080/"
        },
        "id": "YMHPSc0LQllh",
        "outputId": "889759f9-e2a5-4c77-ef4d-b81091e9ccf3"
      },
      "execution_count": null,
      "outputs": [
        {
          "output_type": "execute_result",
          "data": {
            "text/plain": [
              "120"
            ]
          },
          "metadata": {},
          "execution_count": 19
        }
      ]
    },
    {
      "cell_type": "markdown",
      "source": [
        "# Recursion"
      ],
      "metadata": {
        "id": "k-zWJuJpRAw7"
      }
    },
    {
      "cell_type": "code",
      "source": [
        "def test():\n",
        "    # body of function\n",
        "    test()"
      ],
      "metadata": {
        "id": "bxTqo_S6RC2r"
      },
      "execution_count": null,
      "outputs": []
    },
    {
      "cell_type": "code",
      "source": [
        "test()"
      ],
      "metadata": {
        "colab": {
          "base_uri": "https://localhost:8080/",
          "height": 295
        },
        "id": "mbq5qG5kRJdu",
        "outputId": "488f0e27-13a9-49a0-c88f-f7bd178ff619"
      },
      "execution_count": null,
      "outputs": [
        {
          "output_type": "error",
          "ename": "RecursionError",
          "evalue": "ignored",
          "traceback": [
            "\u001b[0;31m---------------------------------------------------------------------------\u001b[0m",
            "\u001b[0;31mRecursionError\u001b[0m                            Traceback (most recent call last)",
            "\u001b[0;32m<ipython-input-23-fbd55f77ab7c>\u001b[0m in \u001b[0;36m<module>\u001b[0;34m\u001b[0m\n\u001b[0;32m----> 1\u001b[0;31m \u001b[0mtest\u001b[0m\u001b[0;34m(\u001b[0m\u001b[0;34m)\u001b[0m\u001b[0;34m\u001b[0m\u001b[0;34m\u001b[0m\u001b[0m\n\u001b[0m",
            "\u001b[0;32m<ipython-input-20-f5fc2ad5decb>\u001b[0m in \u001b[0;36mtest\u001b[0;34m()\u001b[0m\n\u001b[1;32m      1\u001b[0m \u001b[0;32mdef\u001b[0m \u001b[0mtest\u001b[0m\u001b[0;34m(\u001b[0m\u001b[0;34m)\u001b[0m\u001b[0;34m:\u001b[0m\u001b[0;34m\u001b[0m\u001b[0;34m\u001b[0m\u001b[0m\n\u001b[0;32m----> 2\u001b[0;31m     \u001b[0mtest\u001b[0m\u001b[0;34m(\u001b[0m\u001b[0;34m)\u001b[0m\u001b[0;34m\u001b[0m\u001b[0;34m\u001b[0m\u001b[0m\n\u001b[0m",
            "... last 1 frames repeated, from the frame below ...\n",
            "\u001b[0;32m<ipython-input-20-f5fc2ad5decb>\u001b[0m in \u001b[0;36mtest\u001b[0;34m()\u001b[0m\n\u001b[1;32m      1\u001b[0m \u001b[0;32mdef\u001b[0m \u001b[0mtest\u001b[0m\u001b[0;34m(\u001b[0m\u001b[0;34m)\u001b[0m\u001b[0;34m:\u001b[0m\u001b[0;34m\u001b[0m\u001b[0;34m\u001b[0m\u001b[0m\n\u001b[0;32m----> 2\u001b[0;31m     \u001b[0mtest\u001b[0m\u001b[0;34m(\u001b[0m\u001b[0;34m)\u001b[0m\u001b[0;34m\u001b[0m\u001b[0;34m\u001b[0m\u001b[0m\n\u001b[0m",
            "\u001b[0;31mRecursionError\u001b[0m: maximum recursion depth exceeded"
          ]
        }
      ]
    },
    {
      "cell_type": "code",
      "source": [
        "def factorial(n):\n",
        "    if n == 0 or n == 1:\n",
        "        return 1\n",
        "    return n * factorial(n-1)"
      ],
      "metadata": {
        "id": "v4vxPqEuRU2v"
      },
      "execution_count": null,
      "outputs": []
    },
    {
      "cell_type": "code",
      "source": [
        "factorial(5)"
      ],
      "metadata": {
        "colab": {
          "base_uri": "https://localhost:8080/"
        },
        "id": "Hnxm3nUyR_Me",
        "outputId": "103221a9-aab0-4a6c-9886-64c210846eb1"
      },
      "execution_count": null,
      "outputs": [
        {
          "output_type": "execute_result",
          "data": {
            "text/plain": [
              "120"
            ]
          },
          "metadata": {},
          "execution_count": 27
        }
      ]
    },
    {
      "cell_type": "markdown",
      "source": [
        "# Python Class OOP (object Oriented Programming)"
      ],
      "metadata": {
        "id": "OHsRZrRrSd-E"
      }
    },
    {
      "cell_type": "code",
      "source": [
        "class person:    # class is a blueprint of creating object\n",
        "    pass         # pass is a placeholder."
      ],
      "metadata": {
        "id": "vhD5VGCvTP-u"
      },
      "execution_count": null,
      "outputs": []
    },
    {
      "cell_type": "code",
      "source": [
        "obj = person()"
      ],
      "metadata": {
        "id": "BXDFtnaBSj4A"
      },
      "execution_count": null,
      "outputs": []
    },
    {
      "cell_type": "code",
      "source": [
        "type(obj)\n",
        "\n",
        "# if __name == \"__main__\""
      ],
      "metadata": {
        "colab": {
          "base_uri": "https://localhost:8080/"
        },
        "id": "nRew-_hLTnLg",
        "outputId": "0d9e0eb3-a04e-4fdd-bf68-9fe1e9127234"
      },
      "execution_count": null,
      "outputs": [
        {
          "output_type": "execute_result",
          "data": {
            "text/plain": [
              "__main__.person"
            ]
          },
          "metadata": {},
          "execution_count": 34
        }
      ]
    },
    {
      "cell_type": "code",
      "source": [
        "obj2 = person()"
      ],
      "metadata": {
        "id": "k25WtUSvT4lw"
      },
      "execution_count": null,
      "outputs": []
    },
    {
      "cell_type": "code",
      "source": [
        "class mammal():\n",
        "    has_hair = True        # class attribute"
      ],
      "metadata": {
        "id": "yWXuw7W-T9Ny"
      },
      "execution_count": null,
      "outputs": []
    },
    {
      "cell_type": "code",
      "source": [
        "cow = mammal()"
      ],
      "metadata": {
        "id": "OtprLxgUUGqj"
      },
      "execution_count": null,
      "outputs": []
    },
    {
      "cell_type": "code",
      "source": [
        "cow.has_hair"
      ],
      "metadata": {
        "colab": {
          "base_uri": "https://localhost:8080/"
        },
        "id": "PRZNChpdUJX_",
        "outputId": "03231dd4-d71b-494c-b487-39b56aceaa3c"
      },
      "execution_count": null,
      "outputs": [
        {
          "output_type": "execute_result",
          "data": {
            "text/plain": [
              "True"
            ]
          },
          "metadata": {},
          "execution_count": 43
        }
      ]
    },
    {
      "cell_type": "code",
      "source": [
        "human = mammal()\n",
        "human.has_hair"
      ],
      "metadata": {
        "colab": {
          "base_uri": "https://localhost:8080/"
        },
        "id": "bHoWo8rHULjY",
        "outputId": "c06efcef-ef05-441c-bf23-0d5724f329c1"
      },
      "execution_count": null,
      "outputs": [
        {
          "output_type": "execute_result",
          "data": {
            "text/plain": [
              "True"
            ]
          },
          "metadata": {},
          "execution_count": 44
        }
      ]
    },
    {
      "cell_type": "code",
      "source": [
        "class mammal():\n",
        "    has_hair = True                    # class attribute\n",
        "    def __init__(self, no_of_legs):    # initialize object attribute\n",
        "        print(type(self))              # remove print on this line to not see class in the output in the cells below\n",
        "        self.no_of_legs = no_of_legs   # object attribute"
      ],
      "metadata": {
        "id": "KnmP82MRUUvY"
      },
      "execution_count": null,
      "outputs": []
    },
    {
      "cell_type": "code",
      "source": [
        "cow = mammal()   # asks how many legs does a cow have. To fix the issue, check the cell below."
      ],
      "metadata": {
        "colab": {
          "base_uri": "https://localhost:8080/",
          "height": 167
        },
        "id": "mUP7NMAhUr98",
        "outputId": "feca6fea-d50b-404c-ee1d-1d691d17d8a5"
      },
      "execution_count": null,
      "outputs": [
        {
          "output_type": "error",
          "ename": "TypeError",
          "evalue": "ignored",
          "traceback": [
            "\u001b[0;31m---------------------------------------------------------------------------\u001b[0m",
            "\u001b[0;31mTypeError\u001b[0m                                 Traceback (most recent call last)",
            "\u001b[0;32m<ipython-input-46-b0ff4c50a0c5>\u001b[0m in \u001b[0;36m<module>\u001b[0;34m\u001b[0m\n\u001b[0;32m----> 1\u001b[0;31m \u001b[0mcow\u001b[0m \u001b[0;34m=\u001b[0m \u001b[0mmammal\u001b[0m\u001b[0;34m(\u001b[0m\u001b[0;34m)\u001b[0m\u001b[0;34m\u001b[0m\u001b[0;34m\u001b[0m\u001b[0m\n\u001b[0m",
            "\u001b[0;31mTypeError\u001b[0m: __init__() missing 1 required positional argument: 'no_of_legs'"
          ]
        }
      ]
    },
    {
      "cell_type": "code",
      "source": [
        "cow = mammal(4)\n",
        "print(cow.has_hair)\n",
        "print(cow.no_of_legs)"
      ],
      "metadata": {
        "colab": {
          "base_uri": "https://localhost:8080/"
        },
        "id": "fqVRY0d7U1_K",
        "outputId": "91923d53-70a0-4176-89d5-abfc7426e2d6"
      },
      "execution_count": null,
      "outputs": [
        {
          "output_type": "stream",
          "name": "stdout",
          "text": [
            "<class '__main__.mammal'>\n",
            "True\n",
            "4\n"
          ]
        }
      ]
    },
    {
      "cell_type": "code",
      "source": [
        "human = mammal(2)\n",
        "print(human.has_hair)\n",
        "print(human.no_of_legs)"
      ],
      "metadata": {
        "colab": {
          "base_uri": "https://localhost:8080/"
        },
        "id": "Mk5ua5dYVb5L",
        "outputId": "0613004d-91d3-4f64-c735-d002893420e5"
      },
      "execution_count": null,
      "outputs": [
        {
          "output_type": "stream",
          "name": "stdout",
          "text": [
            "<class '__main__.mammal'>\n",
            "True\n",
            "2\n"
          ]
        }
      ]
    },
    {
      "cell_type": "code",
      "source": [
        "class mammal():\n",
        "    has_hair = True                    # class attribute\n",
        "    def __init__(self, no_of_legs, sound):    # initialize object attribute\n",
        "        print(type(self))              # remove print on this line to not see class in the output in the cells below\n",
        "        self.no_of_legs = no_of_legs   # object attribute\n",
        "        self.sound = sound\n",
        "    \n",
        "    def display_legs(self):\n",
        "        print(\"The number of legs is {}\".format(self.no_of_legs))"
      ],
      "metadata": {
        "id": "hR-ju4eXWP7X"
      },
      "execution_count": null,
      "outputs": []
    },
    {
      "cell_type": "code",
      "source": [
        "cow = mammal(4, 'Moooooowww')"
      ],
      "metadata": {
        "colab": {
          "base_uri": "https://localhost:8080/"
        },
        "id": "c1505IS1WgBq",
        "outputId": "cf27d945-bd3c-476d-a938-34af5d854f4a"
      },
      "execution_count": null,
      "outputs": [
        {
          "output_type": "stream",
          "name": "stdout",
          "text": [
            "<class '__main__.mammal'>\n"
          ]
        }
      ]
    },
    {
      "cell_type": "code",
      "source": [
        "cow.display_legs()"
      ],
      "metadata": {
        "colab": {
          "base_uri": "https://localhost:8080/"
        },
        "id": "lLPIrLZ3Wii0",
        "outputId": "0a96ccf2-58a3-4c68-dba5-be2d4937fa78"
      },
      "execution_count": null,
      "outputs": [
        {
          "output_type": "stream",
          "name": "stdout",
          "text": [
            "The number of legs is 4\n"
          ]
        }
      ]
    },
    {
      "cell_type": "code",
      "source": [
        "cow.sound"
      ],
      "metadata": {
        "colab": {
          "base_uri": "https://localhost:8080/",
          "height": 35
        },
        "id": "6XEw_4uaWlmq",
        "outputId": "e015dfcf-cb17-4859-8957-6de492426baa"
      },
      "execution_count": null,
      "outputs": [
        {
          "output_type": "execute_result",
          "data": {
            "text/plain": [
              "'Moooooowww'"
            ],
            "application/vnd.google.colaboratory.intrinsic+json": {
              "type": "string"
            }
          },
          "metadata": {},
          "execution_count": 69
        }
      ]
    },
    {
      "cell_type": "code",
      "source": [
        "human = mammal(2, \"giggles\")\n",
        "human.sound"
      ],
      "metadata": {
        "colab": {
          "base_uri": "https://localhost:8080/",
          "height": 53
        },
        "id": "3g_0i5fWXYRk",
        "outputId": "4230c4ab-9807-406f-f1dc-0ab4a13bc2a7"
      },
      "execution_count": null,
      "outputs": [
        {
          "output_type": "stream",
          "name": "stdout",
          "text": [
            "<class '__main__.mammal'>\n"
          ]
        },
        {
          "output_type": "execute_result",
          "data": {
            "text/plain": [
              "'giggles'"
            ],
            "application/vnd.google.colaboratory.intrinsic+json": {
              "type": "string"
            }
          },
          "metadata": {},
          "execution_count": 71
        }
      ]
    },
    {
      "cell_type": "markdown",
      "source": [
        "# Inheritance"
      ],
      "metadata": {
        "id": "Gh9hhkt1Xshx"
      }
    },
    {
      "cell_type": "code",
      "source": [
        "class A:\n",
        "    def __init__(self):\n",
        "        self.name = \"A\""
      ],
      "metadata": {
        "id": "nA4n7mGDXuy6"
      },
      "execution_count": null,
      "outputs": []
    },
    {
      "cell_type": "code",
      "source": [
        "class B:\n",
        "    def __init__(self):\n",
        "        self.newname = \"B\""
      ],
      "metadata": {
        "id": "LUSc5ky_X2uf"
      },
      "execution_count": null,
      "outputs": []
    },
    {
      "cell_type": "code",
      "source": [
        "b = B()"
      ],
      "metadata": {
        "id": "eum6ai9DX9XA"
      },
      "execution_count": null,
      "outputs": []
    },
    {
      "cell_type": "code",
      "source": [
        "b.name"
      ],
      "metadata": {
        "colab": {
          "base_uri": "https://localhost:8080/",
          "height": 167
        },
        "id": "yGdUGNw1YAii",
        "outputId": "91d37146-49d4-4931-f8d8-d28c3465f8c7"
      },
      "execution_count": null,
      "outputs": [
        {
          "output_type": "error",
          "ename": "AttributeError",
          "evalue": "ignored",
          "traceback": [
            "\u001b[0;31m---------------------------------------------------------------------------\u001b[0m",
            "\u001b[0;31mAttributeError\u001b[0m                            Traceback (most recent call last)",
            "\u001b[0;32m<ipython-input-78-45bc9755420c>\u001b[0m in \u001b[0;36m<module>\u001b[0;34m\u001b[0m\n\u001b[0;32m----> 1\u001b[0;31m \u001b[0mb\u001b[0m\u001b[0;34m.\u001b[0m\u001b[0mname\u001b[0m\u001b[0;34m\u001b[0m\u001b[0;34m\u001b[0m\u001b[0m\n\u001b[0m",
            "\u001b[0;31mAttributeError\u001b[0m: 'B' object has no attribute 'name'"
          ]
        }
      ]
    },
    {
      "cell_type": "code",
      "source": [
        "class A:\n",
        "    def __init__(self):\n",
        "        self.name = \"A\""
      ],
      "metadata": {
        "id": "5im9CTUoYDd0"
      },
      "execution_count": null,
      "outputs": []
    },
    {
      "cell_type": "code",
      "source": [
        "class B(A):\n",
        "    def __init__(self):\n",
        "        self.newname = \"B\"\n",
        "        super().__init__()       # super is keyword, or name and super is attribute"
      ],
      "metadata": {
        "id": "U0ZfZK2iYOhg"
      },
      "execution_count": null,
      "outputs": []
    },
    {
      "cell_type": "code",
      "source": [
        "b = B()    # single inheritance"
      ],
      "metadata": {
        "id": "aTUqm17VYVHR"
      },
      "execution_count": null,
      "outputs": []
    },
    {
      "cell_type": "code",
      "source": [
        "b.name"
      ],
      "metadata": {
        "colab": {
          "base_uri": "https://localhost:8080/",
          "height": 167
        },
        "id": "7fkdOrLQYY3j",
        "outputId": "7e6b916b-a769-41e7-cf30-6a849708bad0"
      },
      "execution_count": null,
      "outputs": [
        {
          "output_type": "error",
          "ename": "AttributeError",
          "evalue": "ignored",
          "traceback": [
            "\u001b[0;31m---------------------------------------------------------------------------\u001b[0m",
            "\u001b[0;31mAttributeError\u001b[0m                            Traceback (most recent call last)",
            "\u001b[0;32m<ipython-input-90-4524b596476c>\u001b[0m in \u001b[0;36m<module>\u001b[0;34m\u001b[0m\n\u001b[0;32m----> 1\u001b[0;31m \u001b[0mb\u001b[0m\u001b[0;34m.\u001b[0m\u001b[0mname\u001b[0m\u001b[0;34m(\u001b[0m\u001b[0;34m)\u001b[0m\u001b[0;34m\u001b[0m\u001b[0;34m\u001b[0m\u001b[0m\n\u001b[0m",
            "\u001b[0;31mAttributeError\u001b[0m: 'B' object has no attribute 'name'"
          ]
        }
      ]
    },
    {
      "cell_type": "markdown",
      "source": [
        "# Access specifier in python / or limiting variable behavior"
      ],
      "metadata": {
        "id": "wYT66BbiZNMn"
      }
    },
    {
      "cell_type": "code",
      "source": [
        "class person:\n",
        "    name = \"Nirajan\"     # public\n",
        "    _teach = 'Python'    # protected\n",
        "    __age = 24           # private"
      ],
      "metadata": {
        "id": "Kimz_4V4ZBs0"
      },
      "execution_count": null,
      "outputs": []
    },
    {
      "cell_type": "code",
      "source": [
        "obj = person()"
      ],
      "metadata": {
        "id": "H78J6tIkZg34"
      },
      "execution_count": null,
      "outputs": []
    },
    {
      "cell_type": "code",
      "source": [
        "obj.name"
      ],
      "metadata": {
        "colab": {
          "base_uri": "https://localhost:8080/",
          "height": 35
        },
        "id": "mU2UpmAJZjfO",
        "outputId": "73b90934-6027-49fb-d581-4829dc35b2dc"
      },
      "execution_count": null,
      "outputs": [
        {
          "output_type": "execute_result",
          "data": {
            "text/plain": [
              "'Nirajan'"
            ],
            "application/vnd.google.colaboratory.intrinsic+json": {
              "type": "string"
            }
          },
          "metadata": {},
          "execution_count": 93
        }
      ]
    },
    {
      "cell_type": "code",
      "source": [
        "obj._teach"
      ],
      "metadata": {
        "colab": {
          "base_uri": "https://localhost:8080/",
          "height": 35
        },
        "id": "xRhb_D8fZmi0",
        "outputId": "7857605a-3a6a-4033-82d3-cced840679bb"
      },
      "execution_count": null,
      "outputs": [
        {
          "output_type": "execute_result",
          "data": {
            "text/plain": [
              "'Python'"
            ],
            "application/vnd.google.colaboratory.intrinsic+json": {
              "type": "string"
            }
          },
          "metadata": {},
          "execution_count": 96
        }
      ]
    },
    {
      "cell_type": "code",
      "source": [
        "obj.__age"
      ],
      "metadata": {
        "colab": {
          "base_uri": "https://localhost:8080/",
          "height": 167
        },
        "id": "k-dhfBQoZpeo",
        "outputId": "3c77c5a8-4d23-43b0-b827-182b139b99c7"
      },
      "execution_count": null,
      "outputs": [
        {
          "output_type": "error",
          "ename": "AttributeError",
          "evalue": "ignored",
          "traceback": [
            "\u001b[0;31m---------------------------------------------------------------------------\u001b[0m",
            "\u001b[0;31mAttributeError\u001b[0m                            Traceback (most recent call last)",
            "\u001b[0;32m<ipython-input-95-ca40ed65a170>\u001b[0m in \u001b[0;36m<module>\u001b[0;34m\u001b[0m\n\u001b[0;32m----> 1\u001b[0;31m \u001b[0mobj\u001b[0m\u001b[0;34m.\u001b[0m\u001b[0m__age\u001b[0m\u001b[0;34m\u001b[0m\u001b[0;34m\u001b[0m\u001b[0m\n\u001b[0m",
            "\u001b[0;31mAttributeError\u001b[0m: 'person' object has no attribute '__age'"
          ]
        }
      ]
    },
    {
      "cell_type": "markdown",
      "source": [
        "# Polymorphism"
      ],
      "metadata": {
        "id": "D8Ox_Q_GaVYT"
      }
    },
    {
      "cell_type": "code",
      "source": [
        "2 + 3"
      ],
      "metadata": {
        "colab": {
          "base_uri": "https://localhost:8080/"
        },
        "id": "uEQaagw2aMRZ",
        "outputId": "fd951821-0764-4b00-ab0c-2c4aa814d41e"
      },
      "execution_count": null,
      "outputs": [
        {
          "output_type": "execute_result",
          "data": {
            "text/plain": [
              "5"
            ]
          },
          "metadata": {},
          "execution_count": 98
        }
      ]
    },
    {
      "cell_type": "code",
      "source": [
        "[2, 7, 8] + [11, 0]"
      ],
      "metadata": {
        "colab": {
          "base_uri": "https://localhost:8080/"
        },
        "id": "cx7_bPwiaaqw",
        "outputId": "056329ee-5b51-46ec-a4c0-5928a783428b"
      },
      "execution_count": null,
      "outputs": [
        {
          "output_type": "execute_result",
          "data": {
            "text/plain": [
              "[2, 7, 8, 11, 0]"
            ]
          },
          "metadata": {},
          "execution_count": 99
        }
      ]
    },
    {
      "cell_type": "code",
      "source": [
        "\"hi\" + \"Good Morning\""
      ],
      "metadata": {
        "colab": {
          "base_uri": "https://localhost:8080/",
          "height": 35
        },
        "id": "N5oaF8BKag-O",
        "outputId": "6ac85f1b-4bc2-4192-aa06-dc0fa0ba6566"
      },
      "execution_count": null,
      "outputs": [
        {
          "output_type": "execute_result",
          "data": {
            "text/plain": [
              "'hiGood Morninh'"
            ],
            "application/vnd.google.colaboratory.intrinsic+json": {
              "type": "string"
            }
          },
          "metadata": {},
          "execution_count": 100
        }
      ]
    },
    {
      "cell_type": "markdown",
      "source": [
        "# Other Example: Polymorphism in Function"
      ],
      "metadata": {
        "id": "vtZslBtmamgH"
      }
    },
    {
      "cell_type": "code",
      "source": [
        "len(\"Hi my name is Nirajan\")"
      ],
      "metadata": {
        "colab": {
          "base_uri": "https://localhost:8080/"
        },
        "id": "_n_-q8XvalQ4",
        "outputId": "5824fb84-6a5c-4479-8798-52dd41269171"
      },
      "execution_count": null,
      "outputs": [
        {
          "output_type": "execute_result",
          "data": {
            "text/plain": [
              "21"
            ]
          },
          "metadata": {},
          "execution_count": 101
        }
      ]
    },
    {
      "cell_type": "code",
      "source": [
        "len([4, 77, 83, 0, -1])"
      ],
      "metadata": {
        "colab": {
          "base_uri": "https://localhost:8080/"
        },
        "id": "HcB3zCjfawGX",
        "outputId": "b91cf423-4cb1-4693-aa0d-9faa11529f7b"
      },
      "execution_count": null,
      "outputs": [
        {
          "output_type": "execute_result",
          "data": {
            "text/plain": [
              "5"
            ]
          },
          "metadata": {},
          "execution_count": 102
        }
      ]
    },
    {
      "cell_type": "code",
      "source": [
        "len({'name': 'Nirajan'})"
      ],
      "metadata": {
        "colab": {
          "base_uri": "https://localhost:8080/"
        },
        "id": "PhRY1CiJa1xG",
        "outputId": "fdacdd8d-8f58-4c8d-db84-d77d21cb0cb2"
      },
      "execution_count": null,
      "outputs": [
        {
          "output_type": "execute_result",
          "data": {
            "text/plain": [
              "1"
            ]
          },
          "metadata": {},
          "execution_count": 104
        }
      ]
    },
    {
      "cell_type": "code",
      "source": [
        "# polymorphism chahi operator overloading bata huxa\n",
        "\n",
        "# dunders are used to overload operator     for example: __add__ overloads + operator"
      ],
      "metadata": {
        "id": "HAQKueCxceOc"
      },
      "execution_count": null,
      "outputs": []
    },
    {
      "cell_type": "code",
      "source": [
        "# Assignment: Write about Function overloading vs overriding"
      ],
      "metadata": {
        "id": "3IQ2ZNi5dBrh"
      },
      "execution_count": null,
      "outputs": []
    }
  ]
}