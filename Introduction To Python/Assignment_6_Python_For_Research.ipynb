{
  "nbformat": 4,
  "nbformat_minor": 0,
  "metadata": {
    "colab": {
      "provenance": [],
      "collapsed_sections": []
    },
    "kernelspec": {
      "name": "python3",
      "display_name": "Python 3"
    },
    "language_info": {
      "name": "python"
    },
    "accelerator": "GPU"
  },
  "cells": [
    {
      "cell_type": "markdown",
      "source": [
        "# 1. Define a class Square which has 3 methods: \n",
        "First calculate_area() and <br>\n",
        "Second  calculate_volume() <br>\n",
        "Third display_area_and_vol()\n",
        "\n",
        "Create an object of a class and display the area and volume of the object. Take object attribute values from the user.\n"
      ],
      "metadata": {
        "id": "Z2KgBGUGeQyy"
      }
    },
    {
      "cell_type": "code",
      "source": [
        "class Square:\n",
        "    def __init__(self, length, breadth, height):\n",
        "        self.length = length\n",
        "        self.breadth = breadth\n",
        "        self.height = height\n",
        "    \n",
        "    def calculate_area(self):\n",
        "        return self.length * self.breadth\n",
        "    \n",
        "    def calculate_volume(self):\n",
        "        return self.length * self.breadth * self.height\n",
        "    \n",
        "    def display_area_and_vol(self):\n",
        "        print(\"Area of the square is: \", self.calculate_area())\n",
        "        print(\"Volume of the square is: \", self.calculate_volume())   # Technically, any square that has volume is cube. But here, we consider square == cube."
      ],
      "metadata": {
        "id": "r5zxIF_kgoCw"
      },
      "execution_count": 4,
      "outputs": []
    },
    {
      "cell_type": "code",
      "source": [
        "length = int(input(\"Enter the length of the square: \"))\n",
        "breadth = int(input(\"Enter the breadth of the square: \"))\n",
        "height = int(input(\"Enter the height of the square: \"))"
      ],
      "metadata": {
        "colab": {
          "base_uri": "https://localhost:8080/"
        },
        "id": "tdZVRLceg4H_",
        "outputId": "8d48d35c-efa6-45ec-9683-eef4ce58c953"
      },
      "execution_count": 5,
      "outputs": [
        {
          "name": "stdout",
          "output_type": "stream",
          "text": [
            "Enter the length of the square: 5\n",
            "Enter the breadth of the square: 3\n",
            "Enter the height of the square: 7\n"
          ]
        }
      ]
    },
    {
      "cell_type": "code",
      "source": [
        "square = Square(length, breadth, height)\n",
        "square.display_area_and_vol()"
      ],
      "metadata": {
        "colab": {
          "base_uri": "https://localhost:8080/"
        },
        "id": "SdImbW8Ag-ga",
        "outputId": "51705a40-a914-4114-f622-e1dce8afa85d"
      },
      "execution_count": 6,
      "outputs": [
        {
          "output_type": "stream",
          "name": "stdout",
          "text": [
            "Area of the square is:  15\n",
            "Volume of the square is:  105\n"
          ]
        }
      ]
    },
    {
      "cell_type": "markdown",
      "source": [
        "# 2. Write a Python class named Student with two attributes student_id, and student_name.\n",
        "Add a new attribute student_class. Create a function to display the entire attribute and its values in the Student class. "
      ],
      "metadata": {
        "id": "x6co3VFxfO7s"
      }
    },
    {
      "cell_type": "code",
      "source": [
        "class Student:\n",
        "    def __init__(self, student_id, student_name, student_class):\n",
        "        self.student_id = student_id\n",
        "        self.student_name = student_name\n",
        "        self.student_class = student_class\n",
        "\n",
        "    def display(self):\n",
        "        print(\"Student ID: \", self.student_id)\n",
        "        print(\"Student Name: \", self.student_name)\n",
        "        print(\"Student Class: \", self.student_class)"
      ],
      "metadata": {
        "id": "UZ4lEC3gh6cS"
      },
      "execution_count": 7,
      "outputs": []
    },
    {
      "cell_type": "code",
      "source": [
        "student = Student(1, \"John\", \"10th\")\n",
        "student.display()"
      ],
      "metadata": {
        "colab": {
          "base_uri": "https://localhost:8080/"
        },
        "id": "JiRDhq_Jh-mf",
        "outputId": "1049fc54-d345-476c-ff7f-548a7812478b"
      },
      "execution_count": 8,
      "outputs": [
        {
          "output_type": "stream",
          "name": "stdout",
          "text": [
            "Student ID:  1\n",
            "Student Name:  John\n",
            "Student Class:  10th\n"
          ]
        }
      ]
    },
    {
      "cell_type": "markdown",
      "source": [
        "# 3. Write a Python class to get all possible unique subsets from a set of distinct integers. \n",
        "Input : [4, 5, 6] <br>\n",
        "Output : [ [], [6], [5], [5, 6], [4], [4, 6], [4, 5], [4, 5, 6] ]\n",
        "\n",
        "Output might be in any order."
      ],
      "metadata": {
        "id": "ugy_tQJcfV48"
      }
    },
    {
      "cell_type": "code",
      "source": [
        "class unique_subsets:\n",
        "    def __init__(self, list_of_numbers):\n",
        "        self.list_of_numbers = list_of_numbers\n",
        "\n",
        "    def get_subsets(self):\n",
        "        return self.subsets_recur([], sorted(self.list_of_numbers))\n",
        "\n",
        "    def subsets_recur(self, current, list_of_numbers):\n",
        "        if list_of_numbers:\n",
        "            return self.subsets_recur(current, list_of_numbers[1:]) + self.subsets_recur(current + [list_of_numbers[0]], list_of_numbers[1:])\n",
        "        return [current]"
      ],
      "metadata": {
        "id": "FTXv0U4ziSLX"
      },
      "execution_count": 9,
      "outputs": []
    },
    {
      "cell_type": "code",
      "source": [
        "print(unique_subsets([4, 5, 6]).get_subsets())"
      ],
      "metadata": {
        "colab": {
          "base_uri": "https://localhost:8080/"
        },
        "id": "AgGE-AhziV5X",
        "outputId": "ad5ee58c-4906-45f7-add2-942c8e113ebc"
      },
      "execution_count": 10,
      "outputs": [
        {
          "output_type": "stream",
          "name": "stdout",
          "text": [
            "[[], [6], [5], [5, 6], [4], [4, 6], [4, 5], [4, 5, 6]]\n"
          ]
        }
      ]
    },
    {
      "cell_type": "markdown",
      "source": [
        "# 4. Write a Python class to reverse a string word by word.\n",
        "Input string : 'hello .py'   <br>\n",
        "Expected Output: '.py hello'"
      ],
      "metadata": {
        "id": "t-8z-LcvfiRr"
      }
    },
    {
      "cell_type": "code",
      "source": [
        "class ReverseString:\n",
        "    def __init__(self, string):\n",
        "        self.string = string\n",
        "\n",
        "    def reverse_string(self):\n",
        "        return ' '.join(reversed(self.string.split()))"
      ],
      "metadata": {
        "id": "O0pOGuAdfwvW"
      },
      "execution_count": 11,
      "outputs": []
    },
    {
      "cell_type": "code",
      "source": [
        "if __name__ == '__main__':\n",
        "    string = 'hello .py'\n",
        "    reverse_string = ReverseString(string)\n",
        "    print(reverse_string.reverse_string())"
      ],
      "metadata": {
        "colab": {
          "base_uri": "https://localhost:8080/"
        },
        "id": "wv4ccymoip2h",
        "outputId": "78a03c8f-ae5a-46d4-8bf9-024bd2f53cd6"
      },
      "execution_count": 13,
      "outputs": [
        {
          "output_type": "stream",
          "name": "stdout",
          "text": [
            ".py hello\n"
          ]
        }
      ]
    }
  ]
}