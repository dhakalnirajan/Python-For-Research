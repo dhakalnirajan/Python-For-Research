{
  "nbformat": 4,
  "nbformat_minor": 0,
  "metadata": {
    "colab": {
      "provenance": [],
      "collapsed_sections": []
    },
    "kernelspec": {
      "name": "python3",
      "display_name": "Python 3"
    },
    "language_info": {
      "name": "python"
    }
  },
  "cells": [
    {
      "cell_type": "markdown",
      "source": [
        "# Integrals\n",
        "\n",
        "To compute an integral, use the `integrate()` function. There are two kinds of integrals, definite and indefinite. To compute an indefinite integral, that is, an antiderivative, or primitive, just pass the variable after the expression."
      ],
      "metadata": {
        "id": "N-mDwihN27H5"
      }
    },
    {
      "cell_type": "code",
      "execution_count": 1,
      "metadata": {
        "id": "cVcObZw1VBsu"
      },
      "outputs": [],
      "source": [
        "from sympy import *"
      ]
    },
    {
      "cell_type": "code",
      "source": [
        "x = symbols('x')"
      ],
      "metadata": {
        "id": "bzYxRD64Yhe-"
      },
      "execution_count": 2,
      "outputs": []
    },
    {
      "cell_type": "markdown",
      "source": [
        "$$f(x) = cos(x)$$\n",
        "\n",
        "\n",
        "$$∫ f(x) dx = sin(x)$$\n",
        "\n",
        "or\n",
        "\n",
        "$$ ∫cos(x) dx = sin(x)$$"
      ],
      "metadata": {
        "id": "npBJyT3GYlZR"
      }
    },
    {
      "cell_type": "code",
      "source": [
        "fx = cos(x)"
      ],
      "metadata": {
        "id": "NbWmQHuTYj7Q"
      },
      "execution_count": 3,
      "outputs": []
    },
    {
      "cell_type": "code",
      "source": [
        "display(fx)"
      ],
      "metadata": {
        "colab": {
          "base_uri": "https://localhost:8080/",
          "height": 37
        },
        "id": "bNSRpviCZTfm",
        "outputId": "dd6be8bd-e881-4fc4-db42-b5b9bef8deb1"
      },
      "execution_count": 4,
      "outputs": [
        {
          "output_type": "display_data",
          "data": {
            "text/plain": [
              "cos(x)"
            ],
            "text/latex": "$\\displaystyle \\cos{\\left(x \\right)}$"
          },
          "metadata": {}
        }
      ]
    },
    {
      "cell_type": "code",
      "source": [
        "integrate(fx, x)"
      ],
      "metadata": {
        "colab": {
          "base_uri": "https://localhost:8080/",
          "height": 38
        },
        "id": "rUaCvwi9ZVKf",
        "outputId": "43ea422b-2437-400a-bd83-b6c81b0eda2b"
      },
      "execution_count": 5,
      "outputs": [
        {
          "output_type": "execute_result",
          "data": {
            "text/plain": [
              "sin(x)"
            ],
            "text/latex": "$\\displaystyle \\sin{\\left(x \\right)}$"
          },
          "metadata": {},
          "execution_count": 5
        }
      ]
    },
    {
      "cell_type": "markdown",
      "source": [
        "## Alternative Way"
      ],
      "metadata": {
        "id": "F6Lqt2zBZet5"
      }
    },
    {
      "cell_type": "code",
      "source": [
        "expression = Integral(fx, x)"
      ],
      "metadata": {
        "id": "wW-Fq_e3Zhvs"
      },
      "execution_count": 6,
      "outputs": []
    },
    {
      "cell_type": "code",
      "source": [
        "expression"
      ],
      "metadata": {
        "colab": {
          "base_uri": "https://localhost:8080/",
          "height": 55
        },
        "id": "3xeZvGWLZmoZ",
        "outputId": "19243779-ef6e-4184-a0ea-9769256332af"
      },
      "execution_count": 7,
      "outputs": [
        {
          "output_type": "execute_result",
          "data": {
            "text/plain": [
              "Integral(cos(x), x)"
            ],
            "text/latex": "$\\displaystyle \\int \\cos{\\left(x \\right)}\\, dx$"
          },
          "metadata": {},
          "execution_count": 7
        }
      ]
    },
    {
      "cell_type": "code",
      "source": [
        "expression.doit()"
      ],
      "metadata": {
        "colab": {
          "base_uri": "https://localhost:8080/",
          "height": 38
        },
        "id": "q4ikiUE_Zn1Z",
        "outputId": "073bf301-5c47-41de-da45-5dbc99065d06"
      },
      "execution_count": 8,
      "outputs": [
        {
          "output_type": "execute_result",
          "data": {
            "text/plain": [
              "sin(x)"
            ],
            "text/latex": "$\\displaystyle \\sin{\\left(x \\right)}$"
          },
          "metadata": {},
          "execution_count": 8
        }
      ]
    },
    {
      "cell_type": "code",
      "source": [
        "# Log\n",
        "expression = Integral(log(x**2), x)"
      ],
      "metadata": {
        "id": "a0SNjNo4cIfk"
      },
      "execution_count": 9,
      "outputs": []
    },
    {
      "cell_type": "code",
      "source": [
        "expression"
      ],
      "metadata": {
        "colab": {
          "base_uri": "https://localhost:8080/",
          "height": 55
        },
        "id": "v2BXmLYucQgx",
        "outputId": "b714d8e2-0d0d-4259-fbb2-64a80763f407"
      },
      "execution_count": 10,
      "outputs": [
        {
          "output_type": "execute_result",
          "data": {
            "text/plain": [
              "Integral(log(x**2), x)"
            ],
            "text/latex": "$\\displaystyle \\int \\log{\\left(x^{2} \\right)}\\, dx$"
          },
          "metadata": {},
          "execution_count": 10
        }
      ]
    },
    {
      "cell_type": "code",
      "source": [
        "expression.doit()"
      ],
      "metadata": {
        "colab": {
          "base_uri": "https://localhost:8080/",
          "height": 38
        },
        "id": "p2xxX68DcSbe",
        "outputId": "83b5b824-5142-4070-fadf-9b2c0a9d526e"
      },
      "execution_count": 11,
      "outputs": [
        {
          "output_type": "execute_result",
          "data": {
            "text/plain": [
              "x*log(x**2) - 2*x"
            ],
            "text/latex": "$\\displaystyle x \\log{\\left(x^{2} \\right)} - 2 x$"
          },
          "metadata": {},
          "execution_count": 11
        }
      ]
    },
    {
      "cell_type": "markdown",
      "source": [
        "# Other Example:\n",
        "\n",
        "$$\\int_0^\\infty e^{-x}\\,dx$$\n",
        "\n",
        "Solution:\n",
        "\n",
        "$$\\int_0^\\infty e^{-x}\\,dx = 1$$"
      ],
      "metadata": {
        "id": "goDPnzfcZs0U"
      }
    },
    {
      "cell_type": "code",
      "source": [
        "x = symbols('x')"
      ],
      "metadata": {
        "id": "Y9Kyv_c6aAr5"
      },
      "execution_count": 12,
      "outputs": []
    },
    {
      "cell_type": "code",
      "source": [
        "fx = exp(-x)"
      ],
      "metadata": {
        "id": "Xk560dX8aDt1"
      },
      "execution_count": 13,
      "outputs": []
    },
    {
      "cell_type": "code",
      "source": [
        "integrate(fx, (x, 0, oo))"
      ],
      "metadata": {
        "colab": {
          "base_uri": "https://localhost:8080/",
          "height": 37
        },
        "id": "ja9bSt7caHao",
        "outputId": "f4a3b3f7-7578-4d0c-8d7c-ed7b6070a6cd"
      },
      "execution_count": 14,
      "outputs": [
        {
          "output_type": "execute_result",
          "data": {
            "text/plain": [
              "1"
            ],
            "text/latex": "$\\displaystyle 1$"
          },
          "metadata": {},
          "execution_count": 14
        }
      ]
    },
    {
      "cell_type": "markdown",
      "source": [
        "## Alternative Way"
      ],
      "metadata": {
        "id": "7n48P5ZRafRn"
      }
    },
    {
      "cell_type": "code",
      "source": [
        "expression = Integral(fx, (x, 0, oo))"
      ],
      "metadata": {
        "id": "Xo-4DKaiahPU"
      },
      "execution_count": 15,
      "outputs": []
    },
    {
      "cell_type": "code",
      "source": [
        "expression"
      ],
      "metadata": {
        "colab": {
          "base_uri": "https://localhost:8080/",
          "height": 77
        },
        "id": "tlvh22ewaobp",
        "outputId": "2c805396-f21e-4829-f5ac-e1dea7f72e81"
      },
      "execution_count": 16,
      "outputs": [
        {
          "output_type": "execute_result",
          "data": {
            "text/plain": [
              "Integral(exp(-x), (x, 0, oo))"
            ],
            "text/latex": "$\\displaystyle \\int\\limits_{0}^{\\infty} e^{- x}\\, dx$"
          },
          "metadata": {},
          "execution_count": 16
        }
      ]
    },
    {
      "cell_type": "code",
      "source": [
        "expression.doit()"
      ],
      "metadata": {
        "colab": {
          "base_uri": "https://localhost:8080/",
          "height": 37
        },
        "id": "1gQ9FFWjaqOi",
        "outputId": "3dd9c78f-8ce3-4ca4-d796-00dee297c7ab"
      },
      "execution_count": 17,
      "outputs": [
        {
          "output_type": "execute_result",
          "data": {
            "text/plain": [
              "1"
            ],
            "text/latex": "$\\displaystyle 1$"
          },
          "metadata": {},
          "execution_count": 17
        }
      ]
    },
    {
      "cell_type": "markdown",
      "source": [
        "# Multiple Integration/ Double Integration"
      ],
      "metadata": {
        "id": "vL-05-vlawmy"
      }
    },
    {
      "cell_type": "code",
      "source": [
        "x, y = symbols('x, y')"
      ],
      "metadata": {
        "id": "FyZiM41tayOV"
      },
      "execution_count": 18,
      "outputs": []
    },
    {
      "cell_type": "code",
      "source": [
        "fx = exp(-x**2-y**2)"
      ],
      "metadata": {
        "id": "dnNkRVu3a4JD"
      },
      "execution_count": 19,
      "outputs": []
    },
    {
      "cell_type": "code",
      "source": [
        "fx"
      ],
      "metadata": {
        "colab": {
          "base_uri": "https://localhost:8080/",
          "height": 41
        },
        "id": "iCDvyPL_bNAI",
        "outputId": "a83e468e-070e-4b15-c1bd-6fb5a38fe44c"
      },
      "execution_count": 20,
      "outputs": [
        {
          "output_type": "execute_result",
          "data": {
            "text/plain": [
              "exp(-x**2 - y**2)"
            ],
            "text/latex": "$\\displaystyle e^{- x^{2} - y^{2}}$"
          },
          "metadata": {},
          "execution_count": 20
        }
      ]
    },
    {
      "cell_type": "code",
      "source": [
        "integrate(fx, (x, -oo, oo), (y, -oo, oo))"
      ],
      "metadata": {
        "colab": {
          "base_uri": "https://localhost:8080/",
          "height": 38
        },
        "id": "gRTx2CHxbREw",
        "outputId": "cfe276ae-e24f-4de9-9fd0-9dc88d4df7d8"
      },
      "execution_count": 21,
      "outputs": [
        {
          "output_type": "execute_result",
          "data": {
            "text/plain": [
              "pi"
            ],
            "text/latex": "$\\displaystyle \\pi$"
          },
          "metadata": {},
          "execution_count": 21
        }
      ]
    },
    {
      "cell_type": "code",
      "source": [
        "# Alternate Way\n",
        "expression = Integral(fx, (x, -oo, oo), (y, -oo, oo))"
      ],
      "metadata": {
        "id": "sqwAPjTzbY4H"
      },
      "execution_count": 22,
      "outputs": []
    },
    {
      "cell_type": "code",
      "source": [
        "expression"
      ],
      "metadata": {
        "colab": {
          "base_uri": "https://localhost:8080/",
          "height": 78
        },
        "id": "ZifRul-Ebu07",
        "outputId": "241596aa-56f3-4ed9-b6b1-73a7edffb8e6"
      },
      "execution_count": 23,
      "outputs": [
        {
          "output_type": "execute_result",
          "data": {
            "text/plain": [
              "Integral(exp(-x**2 - y**2), (x, -oo, oo), (y, -oo, oo))"
            ],
            "text/latex": "$\\displaystyle \\int\\limits_{-\\infty}^{\\infty}\\int\\limits_{-\\infty}^{\\infty} e^{- x^{2} - y^{2}}\\, dx\\, dy$"
          },
          "metadata": {},
          "execution_count": 23
        }
      ]
    },
    {
      "cell_type": "code",
      "source": [
        "expression.doit()"
      ],
      "metadata": {
        "colab": {
          "base_uri": "https://localhost:8080/",
          "height": 38
        },
        "id": "UaW-aERdbpYi",
        "outputId": "324a6e0d-8bd8-47c7-c62f-496c7b3202a1"
      },
      "execution_count": 24,
      "outputs": [
        {
          "output_type": "execute_result",
          "data": {
            "text/plain": [
              "pi"
            ],
            "text/latex": "$\\displaystyle \\pi$"
          },
          "metadata": {},
          "execution_count": 24
        }
      ]
    },
    {
      "cell_type": "markdown",
      "source": [
        "# Other Example\n",
        "\n",
        "<img src=\"https://study.com/cimages/multimages/16/76e64bcb-40bb-40f1-a3d0-565ceea9ab8c_unnamed.png\">"
      ],
      "metadata": {
        "id": "yz1L1TQVcuXu"
      }
    },
    {
      "cell_type": "code",
      "source": [
        "x, y = symbols('x, y')"
      ],
      "metadata": {
        "id": "gvd9Jk_fdhLl"
      },
      "execution_count": 25,
      "outputs": []
    },
    {
      "cell_type": "code",
      "source": [
        "fx = 9*(x**3)*(y**2)"
      ],
      "metadata": {
        "id": "gK50V575ds_k"
      },
      "execution_count": 26,
      "outputs": []
    },
    {
      "cell_type": "code",
      "source": [
        "fx"
      ],
      "metadata": {
        "colab": {
          "base_uri": "https://localhost:8080/",
          "height": 38
        },
        "id": "C0ye8F41eFCP",
        "outputId": "7a4a56a4-ea63-47a2-e1f7-a2065734ace0"
      },
      "execution_count": 27,
      "outputs": [
        {
          "output_type": "execute_result",
          "data": {
            "text/plain": [
              "9*x**3*y**2"
            ],
            "text/latex": "$\\displaystyle 9 x^{3} y^{2}$"
          },
          "metadata": {},
          "execution_count": 27
        }
      ]
    },
    {
      "cell_type": "code",
      "source": [
        "expression =Integral(fx, (y, 2, 4), (x, 1, 3))"
      ],
      "metadata": {
        "id": "Qj5L7q1aeLLg"
      },
      "execution_count": 28,
      "outputs": []
    },
    {
      "cell_type": "code",
      "source": [
        "expression"
      ],
      "metadata": {
        "colab": {
          "base_uri": "https://localhost:8080/",
          "height": 80
        },
        "id": "mQqVHoVRebeX",
        "outputId": "b22300ff-77b9-47aa-968d-650f6f2f20e0"
      },
      "execution_count": 29,
      "outputs": [
        {
          "output_type": "execute_result",
          "data": {
            "text/plain": [
              "Integral(9*x**3*y**2, (y, 2, 4), (x, 1, 3))"
            ],
            "text/latex": "$\\displaystyle \\int\\limits_{1}^{3}\\int\\limits_{2}^{4} 9 x^{3} y^{2}\\, dy\\, dx$"
          },
          "metadata": {},
          "execution_count": 29
        }
      ]
    },
    {
      "cell_type": "code",
      "source": [
        "expression.doit()"
      ],
      "metadata": {
        "colab": {
          "base_uri": "https://localhost:8080/",
          "height": 37
        },
        "id": "Oy0mKPW2e6X2",
        "outputId": "d2b1a9a0-558f-4f04-eab2-6b9a89407438"
      },
      "execution_count": 30,
      "outputs": [
        {
          "output_type": "execute_result",
          "data": {
            "text/plain": [
              "3360"
            ],
            "text/latex": "$\\displaystyle 3360$"
          },
          "metadata": {},
          "execution_count": 30
        }
      ]
    },
    {
      "cell_type": "markdown",
      "source": [
        "## Other Example\n",
        "\n",
        "<img src = \"https://study.com/cimages/multimages/16/double_int_ex3.png\">"
      ],
      "metadata": {
        "id": "Ms_JnAypeor_"
      }
    },
    {
      "cell_type": "code",
      "source": [
        "from sympy import *"
      ],
      "metadata": {
        "id": "scaXUywZhBAu"
      },
      "execution_count": 31,
      "outputs": []
    },
    {
      "cell_type": "code",
      "source": [
        "x, y = symbols('x,y')"
      ],
      "metadata": {
        "id": "N8Ay-c7vf1eM"
      },
      "execution_count": 32,
      "outputs": []
    },
    {
      "cell_type": "code",
      "source": [
        "fx = x*cos(x*y)"
      ],
      "metadata": {
        "id": "kTV3NckMgCiX"
      },
      "execution_count": 33,
      "outputs": []
    },
    {
      "cell_type": "code",
      "source": [
        "expression= Integral(fx,(y,0,pi/2),(x,0,pi/2))"
      ],
      "metadata": {
        "id": "gAL2tHBzgK-b"
      },
      "execution_count": 34,
      "outputs": []
    },
    {
      "cell_type": "code",
      "source": [
        "expression"
      ],
      "metadata": {
        "colab": {
          "base_uri": "https://localhost:8080/",
          "height": 83
        },
        "id": "pg_FBdCpghzU",
        "outputId": "3431e958-d646-4f2b-b064-bb578cb04c53"
      },
      "execution_count": 35,
      "outputs": [
        {
          "output_type": "execute_result",
          "data": {
            "text/plain": [
              "Integral(x*cos(x*y), (y, 0, pi/2), (x, 0, pi/2))"
            ],
            "text/latex": "$\\displaystyle \\int\\limits_{0}^{\\frac{\\pi}{2}}\\int\\limits_{0}^{\\frac{\\pi}{2}} x \\cos{\\left(x y \\right)}\\, dy\\, dx$"
          },
          "metadata": {},
          "execution_count": 35
        }
      ]
    },
    {
      "cell_type": "code",
      "source": [
        "x = expression.doit()"
      ],
      "metadata": {
        "id": "9oDZqsiegjvU"
      },
      "execution_count": 36,
      "outputs": []
    },
    {
      "cell_type": "code",
      "source": [
        "float(x)"
      ],
      "metadata": {
        "colab": {
          "base_uri": "https://localhost:8080/"
        },
        "id": "sL4dOOgPgwlS",
        "outputId": "90b9b6f2-ccb3-44c6-c029-58cb1f277bfa"
      },
      "execution_count": 37,
      "outputs": [
        {
          "output_type": "execute_result",
          "data": {
            "text/plain": [
              "1.1339547092938078"
            ]
          },
          "metadata": {},
          "execution_count": 37
        }
      ]
    }
  ]
}