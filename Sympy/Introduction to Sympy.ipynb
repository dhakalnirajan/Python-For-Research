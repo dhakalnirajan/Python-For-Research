{
  "nbformat": 4,
  "nbformat_minor": 0,
  "metadata": {
    "colab": {
      "provenance": [],
      "collapsed_sections": []
    },
    "kernelspec": {
      "name": "python3",
      "display_name": "Python 3"
    },
    "language_info": {
      "name": "python"
    }
  },
  "cells": [
    {
      "cell_type": "markdown",
      "source": [
        "# Introduction to Sympy"
      ],
      "metadata": {
        "id": "bOmKNIH-yXwT"
      }
    },
    {
      "cell_type": "code",
      "execution_count": 1,
      "metadata": {
        "id": "9mKenuTmQePD",
        "colab": {
          "base_uri": "https://localhost:8080/"
        },
        "outputId": "35d0c1c8-00bd-4636-eb77-0c359601232a"
      },
      "outputs": [
        {
          "output_type": "stream",
          "name": "stdout",
          "text": [
            "Looking in indexes: https://pypi.org/simple, https://us-python.pkg.dev/colab-wheels/public/simple/\n",
            "Collecting SciencePlots\n",
            "  Downloading SciencePlots-1.0.9.tar.gz (10 kB)\n",
            "  Installing build dependencies ... \u001b[?25l\u001b[?25hdone\n",
            "\u001b[33m  WARNING: Missing build requirements in pyproject.toml for SciencePlots from https://files.pythonhosted.org/packages/c2/44/7b5c0ecd6f2862671a076425546f86ac540bc48c1a618a82d6faa3b26f58/SciencePlots-1.0.9.tar.gz#sha256=2b002f263734a718acdf1e5be57f0de5ee887e70517dfbe1118a27d0ee3dfb0f.\u001b[0m\n",
            "\u001b[33m  WARNING: The project does not specify a build backend, and pip cannot fall back to setuptools without 'wheel'.\u001b[0m\n",
            "  Getting requirements to build wheel ... \u001b[?25l\u001b[?25hdone\n",
            "  Installing backend dependencies ... \u001b[?25l\u001b[?25hdone\n",
            "    Preparing wheel metadata ... \u001b[?25l\u001b[?25hdone\n",
            "Requirement already satisfied: matplotlib in /usr/local/lib/python3.7/dist-packages (from SciencePlots) (3.2.2)\n",
            "Requirement already satisfied: pyparsing!=2.0.4,!=2.1.2,!=2.1.6,>=2.0.1 in /usr/local/lib/python3.7/dist-packages (from matplotlib->SciencePlots) (3.0.9)\n",
            "Requirement already satisfied: python-dateutil>=2.1 in /usr/local/lib/python3.7/dist-packages (from matplotlib->SciencePlots) (2.8.2)\n",
            "Requirement already satisfied: kiwisolver>=1.0.1 in /usr/local/lib/python3.7/dist-packages (from matplotlib->SciencePlots) (1.4.4)\n",
            "Requirement already satisfied: cycler>=0.10 in /usr/local/lib/python3.7/dist-packages (from matplotlib->SciencePlots) (0.11.0)\n",
            "Requirement already satisfied: numpy>=1.11 in /usr/local/lib/python3.7/dist-packages (from matplotlib->SciencePlots) (1.21.6)\n",
            "Requirement already satisfied: typing-extensions in /usr/local/lib/python3.7/dist-packages (from kiwisolver>=1.0.1->matplotlib->SciencePlots) (4.1.1)\n",
            "Requirement already satisfied: six>=1.5 in /usr/local/lib/python3.7/dist-packages (from python-dateutil>=2.1->matplotlib->SciencePlots) (1.15.0)\n",
            "Building wheels for collected packages: SciencePlots\n",
            "  Building wheel for SciencePlots (PEP 517) ... \u001b[?25l\u001b[?25hdone\n",
            "  Created wheel for SciencePlots: filename=SciencePlots-1.0.9-py3-none-any.whl size=6484 sha256=3876953c0f6a0eae72f2953a92af9afac811db7c4fe1feed2db6a7d362bbe881\n",
            "  Stored in directory: /root/.cache/pip/wheels/37/f8/e9/b2f53a40b336388dfc57b108150daff7d6ffbbfc618dba3924\n",
            "Successfully built SciencePlots\n",
            "Installing collected packages: SciencePlots\n",
            "Successfully installed SciencePlots-1.0.9\n"
          ]
        }
      ],
      "source": [
        "!pip install SciencePlots\n",
        "import matplotlib.pyplot as plt\n",
        "plt.style.reload_library()\n",
        "plt.style.use(['science', 'notebook', 'grid'])"
      ]
    },
    {
      "cell_type": "code",
      "source": [
        "from sympy import *"
      ],
      "metadata": {
        "id": "xfqdbKqyy2e2"
      },
      "execution_count": 2,
      "outputs": []
    },
    {
      "cell_type": "markdown",
      "source": [
        "Let's define a symbolic expression representing mathematical expression $x+2y$"
      ],
      "metadata": {
        "id": "-rCGdd3F1dX_"
      }
    },
    {
      "cell_type": "code",
      "source": [
        "x, y = symbols('x y')"
      ],
      "metadata": {
        "id": "w9oDhzHkzYT8"
      },
      "execution_count": 3,
      "outputs": []
    },
    {
      "cell_type": "code",
      "source": [
        "expression = x + 2 * y"
      ],
      "metadata": {
        "id": "h3KzqtFN17lt"
      },
      "execution_count": 4,
      "outputs": []
    },
    {
      "cell_type": "code",
      "source": [
        "display(expression)"
      ],
      "metadata": {
        "colab": {
          "base_uri": "https://localhost:8080/",
          "height": 38
        },
        "id": "PmVl0Jd12AdJ",
        "outputId": "6168a97c-fc07-4e83-891b-6dab0d7e5a6d"
      },
      "execution_count": 5,
      "outputs": [
        {
          "output_type": "display_data",
          "data": {
            "text/plain": [
              "x + 2*y"
            ],
            "text/latex": "$\\displaystyle x + 2 y$"
          },
          "metadata": {}
        }
      ]
    },
    {
      "cell_type": "markdown",
      "source": [
        "Add '1' to the expression"
      ],
      "metadata": {
        "id": "f1_TWoGf2MIO"
      }
    },
    {
      "cell_type": "code",
      "source": [
        "display(expression + 1)"
      ],
      "metadata": {
        "colab": {
          "base_uri": "https://localhost:8080/",
          "height": 38
        },
        "id": "fVX8R-iX2IzE",
        "outputId": "d0c74013-b2f0-4ffe-81f9-3ddc75cde603"
      },
      "execution_count": 6,
      "outputs": [
        {
          "output_type": "display_data",
          "data": {
            "text/plain": [
              "x + 2*y + 1"
            ],
            "text/latex": "$\\displaystyle x + 2 y + 1$"
          },
          "metadata": {}
        }
      ]
    },
    {
      "cell_type": "code",
      "source": [
        "display(expression - x)"
      ],
      "metadata": {
        "colab": {
          "base_uri": "https://localhost:8080/",
          "height": 38
        },
        "id": "w6Feggcv2ZrI",
        "outputId": "3b2b6a21-fdbe-4fd9-823d-949739c88477"
      },
      "execution_count": 7,
      "outputs": [
        {
          "output_type": "display_data",
          "data": {
            "text/plain": [
              "2*y"
            ],
            "text/latex": "$\\displaystyle 2 y$"
          },
          "metadata": {}
        }
      ]
    },
    {
      "cell_type": "code",
      "source": [
        "display(expression)"
      ],
      "metadata": {
        "colab": {
          "base_uri": "https://localhost:8080/",
          "height": 38
        },
        "id": "refNU4C62cMP",
        "outputId": "95951965-3bb6-4fe9-b4ce-3f551f67e19b"
      },
      "execution_count": 8,
      "outputs": [
        {
          "output_type": "display_data",
          "data": {
            "text/plain": [
              "x + 2*y"
            ],
            "text/latex": "$\\displaystyle x + 2 y$"
          },
          "metadata": {}
        }
      ]
    },
    {
      "cell_type": "code",
      "source": [
        "expression.subs({'x': 2, \"y\": 4})   # subs() substitutes the values from the variables and solves the expression"
      ],
      "metadata": {
        "colab": {
          "base_uri": "https://localhost:8080/",
          "height": 37
        },
        "id": "p3_3z2yd3Gkq",
        "outputId": "6781dc7d-d3bb-4b6a-fc11-3c56fb285285"
      },
      "execution_count": 9,
      "outputs": [
        {
          "output_type": "execute_result",
          "data": {
            "text/plain": [
              "10"
            ],
            "text/latex": "$\\displaystyle 10$"
          },
          "metadata": {},
          "execution_count": 9
        }
      ]
    },
    {
      "cell_type": "markdown",
      "source": [
        "Notice something in the above example. When we typed $expr - x$, we did not get $x + 2 * y - x$, but rather just $ 2 * y $. The $x$ and the $-x$ automatically canceled one another.\n",
        "\n",
        "This isn’t always the case in SymPy:"
      ],
      "metadata": {
        "id": "_Raipvzl3ine"
      }
    },
    {
      "cell_type": "code",
      "source": [
        "display(expression)"
      ],
      "metadata": {
        "colab": {
          "base_uri": "https://localhost:8080/",
          "height": 38
        },
        "id": "U8PhfWcD3Ysv",
        "outputId": "6a026d9d-e1c1-4643-8e45-bd11c479e29e"
      },
      "execution_count": 10,
      "outputs": [
        {
          "output_type": "display_data",
          "data": {
            "text/plain": [
              "x + 2*y"
            ],
            "text/latex": "$\\displaystyle x + 2 y$"
          },
          "metadata": {}
        }
      ]
    },
    {
      "cell_type": "code",
      "source": [
        "display(x * expression)"
      ],
      "metadata": {
        "colab": {
          "base_uri": "https://localhost:8080/",
          "height": 38
        },
        "id": "RfBIYoAh4Vvl",
        "outputId": "a399f2d3-fdea-4228-dd84-e45ba4fdea79"
      },
      "execution_count": 11,
      "outputs": [
        {
          "output_type": "display_data",
          "data": {
            "text/plain": [
              "x*(x + 2*y)"
            ],
            "text/latex": "$\\displaystyle x \\left(x + 2 y\\right)$"
          },
          "metadata": {}
        }
      ]
    },
    {
      "cell_type": "code",
      "source": [
        "display(expression * x)"
      ],
      "metadata": {
        "colab": {
          "base_uri": "https://localhost:8080/",
          "height": 38
        },
        "id": "Vuh4Mb1Z4Zc7",
        "outputId": "c065ff24-0660-438d-81a7-3d2fb20e9c3a"
      },
      "execution_count": 12,
      "outputs": [
        {
          "output_type": "display_data",
          "data": {
            "text/plain": [
              "x*(x + 2*y)"
            ],
            "text/latex": "$\\displaystyle x \\left(x + 2 y\\right)$"
          },
          "metadata": {}
        }
      ]
    },
    {
      "cell_type": "markdown",
      "source": [
        "Here, you might have expected $x(x+2y)$ to transform into $x^2+2xy$ but instead we see that the expression was left alone. This is a common theme in SymPy. Aside from obvious simplifications like $ x - x = 0$  and $\\sqrt8 = 2\\sqrt2$ most simplifications are not performed automatically. This is because we might prefer the factored form $x(x+2y)$ or we might prefer the expanded form $x^2 + 2xy$. Both forms are useful in different circumstances. In SymPy, there are functions to go from one form to the other."
      ],
      "metadata": {
        "id": "sbv4_LnI4iMe"
      }
    },
    {
      "cell_type": "code",
      "source": [
        "expanded = expand(x * expression)"
      ],
      "metadata": {
        "id": "9a5wN-RS5uBk"
      },
      "execution_count": 13,
      "outputs": []
    },
    {
      "cell_type": "code",
      "source": [
        "display(expanded)"
      ],
      "metadata": {
        "colab": {
          "base_uri": "https://localhost:8080/",
          "height": 38
        },
        "id": "IUUKgq1Q56Co",
        "outputId": "03b740af-5214-4fb4-806a-777c1ea4f7ef"
      },
      "execution_count": 14,
      "outputs": [
        {
          "output_type": "display_data",
          "data": {
            "text/plain": [
              "x**2 + 2*x*y"
            ],
            "text/latex": "$\\displaystyle x^{2} + 2 x y$"
          },
          "metadata": {}
        }
      ]
    },
    {
      "cell_type": "code",
      "source": [
        "display(factor(expanded))"
      ],
      "metadata": {
        "colab": {
          "base_uri": "https://localhost:8080/",
          "height": 38
        },
        "id": "jKpKbdU259Ec",
        "outputId": "9e32b8b3-4dba-4427-9f2a-268b3f709a71"
      },
      "execution_count": 15,
      "outputs": [
        {
          "output_type": "display_data",
          "data": {
            "text/plain": [
              "x*(x + 2*y)"
            ],
            "text/latex": "$\\displaystyle x \\left(x + 2 y\\right)$"
          },
          "metadata": {}
        }
      ]
    },
    {
      "cell_type": "markdown",
      "source": [
        "<img src=\"https://d1e4pidl3fu268.cloudfront.net/25bdc4be-52ae-4ed3-9971-c1209a2ddd38/14b.crop_935x701_0,0.preview.JPG\">"
      ],
      "metadata": {
        "id": "OPUCk_iz6Cwg"
      }
    },
    {
      "cell_type": "code",
      "source": [
        "import numpy as np"
      ],
      "metadata": {
        "id": "h1QRxzYaDw7t"
      },
      "execution_count": 16,
      "outputs": []
    },
    {
      "cell_type": "code",
      "source": [
        "x, y = symbols('x y')"
      ],
      "metadata": {
        "id": "v2upbEfhD5W4"
      },
      "execution_count": 17,
      "outputs": []
    },
    {
      "cell_type": "code",
      "source": [
        "eq1 = Eq(8*x + y, 42)\n",
        "eq2 = Eq(x**2-y, 6)\n",
        "coordinates = solve((eq1, eq2))"
      ],
      "metadata": {
        "id": "SNN0pUVAEBjr"
      },
      "execution_count": 18,
      "outputs": []
    },
    {
      "cell_type": "code",
      "source": [
        "print(f\"The Solution is {coordinates}\")"
      ],
      "metadata": {
        "colab": {
          "base_uri": "https://localhost:8080/"
        },
        "id": "7bVCwhKuEiJD",
        "outputId": "d9f11acb-9354-4fe4-c64f-4bd007f4ddf9"
      },
      "execution_count": 19,
      "outputs": [
        {
          "output_type": "stream",
          "name": "stdout",
          "text": [
            "The Solution is [{x: -12, y: 138}, {x: 4, y: 10}]\n"
          ]
        }
      ]
    },
    {
      "cell_type": "markdown",
      "source": [
        "# Plot the equation on the Graph and plot the solutions"
      ],
      "metadata": {
        "id": "wZN_U3SdGGJk"
      }
    },
    {
      "cell_type": "code",
      "source": [
        "x_val = np.arange(-15, 12)"
      ],
      "metadata": {
        "id": "iKbmgu8iHQBF"
      },
      "execution_count": 20,
      "outputs": []
    },
    {
      "cell_type": "code",
      "source": [
        "y_val_eq1 = [solve(eq1.subs({'x':point}))[0] for point in x_val]"
      ],
      "metadata": {
        "id": "mMd3zeweHYp9"
      },
      "execution_count": 21,
      "outputs": []
    },
    {
      "cell_type": "code",
      "source": [
        "y_val_eq2 =  [solve(eq2.subs({'x':point}))[0] for point in x_val]"
      ],
      "metadata": {
        "id": "Znr071MEH51e"
      },
      "execution_count": 22,
      "outputs": []
    },
    {
      "cell_type": "code",
      "source": [
        "plt.figure(figsize = (8, 6))\n",
        "plt.plot(x_val, y_val_eq1, label = '$ 8x + y = 42$', color = 'purple')\n",
        "plt.plot(x_val, y_val_eq2, label = '$ x ^2 - y = 6$', color = 'b')\n",
        "x_cord = int(coordinates[0].get(x))\n",
        "y_cord = int(coordinates[0].get(y))\n",
        "plt.plot(x_cord, y_cord, 'o', ms = 10)\n",
        "plt.text(x_cord + 0.2, y_cord + 0.9, f\"$({x_cord} , {y_cord})$\")\n",
        "x_cord = int(coordinates[1].get(x))\n",
        "y_cord = int(coordinates[1].get(y))\n",
        "plt.text(x_cord + 0.3, y_cord + 0.5, f\"$({x_cord}, {y_cord})$\" )\n",
        "plt.plot(x_cord, y_cord, 'o', ms = 10)\n",
        "plt.savefig('solution.png', dpi = 300)\n",
        "plt.legend(loc = \"upper right\")\n",
        "plt.show()"
      ],
      "metadata": {
        "colab": {
          "base_uri": "https://localhost:8080/",
          "height": 368
        },
        "id": "iJ2ttBrUIPfo",
        "outputId": "413f1046-a73c-49f9-ac7b-fa88d223a826"
      },
      "execution_count": 23,
      "outputs": [
        {
          "output_type": "display_data",
          "data": {
            "text/plain": [
              "<Figure size 576x432 with 1 Axes>"
            ],
            "image/png": "[encoded data removed]"
          },
          "metadata": {
            "needs_background": "light"
          }
        }
      ]
    },
    {
      "cell_type": "markdown",
      "source": [
        "<img src=\"https://camo.githubusercontent.com/dfb806c0a62e8a79c68b6aa789cf10f4e5bf78dd40c5302eb23c02896d2c0b34/68747470733a2f2f7777772e6f6e6c696e656d6174686c6561726e696e672e636f6d2f696d6167652d66696c65732f73696d756c74616e656f75732d6c696e6561722d7175616472617469632e706e67\">"
      ],
      "metadata": {
        "id": "9VweFGwtLnsw"
      }
    }
  ]
}